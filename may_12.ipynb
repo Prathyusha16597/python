{
 "cells": [
  {
   "cell_type": "code",
   "execution_count": 5,
   "id": "373f9ac1",
   "metadata": {},
   "outputs": [
    {
     "name": "stdout",
     "output_type": "stream",
     "text": [
      "100\n"
     ]
    }
   ],
   "source": [
    "res=lambda n:n*2\n",
    "result=res(50)\n",
    "print(result)"
   ]
  },
  {
   "cell_type": "code",
   "execution_count": 6,
   "id": "16a24bbd",
   "metadata": {},
   "outputs": [
    {
     "name": "stdout",
     "output_type": "stream",
     "text": [
      "65\n"
     ]
    }
   ],
   "source": [
    "x=lambda a,b:a+b\n",
    "print(x(45,20))"
   ]
  },
  {
   "cell_type": "code",
   "execution_count": 7,
   "id": "282f8b13",
   "metadata": {},
   "outputs": [
    {
     "name": "stdout",
     "output_type": "stream",
     "text": [
      "38080\n"
     ]
    }
   ],
   "source": [
    "x=lambda a,b,c : a*b*c\n",
    "print(x(56,34,20))"
   ]
  },
  {
   "cell_type": "code",
   "execution_count": 8,
   "id": "864f89da",
   "metadata": {},
   "outputs": [
    {
     "name": "stdout",
     "output_type": "stream",
     "text": [
      "3128\n"
     ]
    }
   ],
   "source": [
    "def lambda_function(n):\n",
    "    return lambda a:a*n\n",
    "l=lambda_function(92)\n",
    "print(l(34))"
   ]
  },
  {
   "cell_type": "code",
   "execution_count": 10,
   "id": "17886501",
   "metadata": {},
   "outputs": [
    {
     "name": "stdout",
     "output_type": "stream",
     "text": [
      "107640\n"
     ]
    }
   ],
   "source": [
    "def lambda_function1(n,n1):\n",
    "    return lambda b:b*n*n1\n",
    "l1=lambda_function1(23,90)\n",
    "print(l1(52))"
   ]
  },
  {
   "cell_type": "code",
   "execution_count": 12,
   "id": "b9f717e7",
   "metadata": {},
   "outputs": [
    {
     "name": "stdout",
     "output_type": "stream",
     "text": [
      "the Autual List :  [30, 46, 76, 28, 10, 45, 100]\n",
      "After the List :  [30, 10, 45, 100]\n"
     ]
    }
   ],
   "source": [
    "lst=[30,46,76,28,10,45,100]\n",
    "print(\"the Autual List : \",lst)\n",
    "result=list(filter (lambda n:n%5==0 , lst))\n",
    "print(\"After the List : \",result)\n"
   ]
  },
  {
   "cell_type": "code",
   "execution_count": 15,
   "id": "08d9f6e3",
   "metadata": {},
   "outputs": [
    {
     "name": "stdout",
     "output_type": "stream",
     "text": [
      "the Autual List :  [23, 67, 123, 356, 19, 3, 67, 27, 45, 235, 10, 400, 285, 1000, 1500, 400, 265]\n",
      "divisible by 5 in 3 digits numbers :  [235, 400, 285, 400, 265]\n"
     ]
    }
   ],
   "source": [
    "lst1=[23,67,123,356,19,3,67,27,45,235,10,400,285,1000,1500,400,265]\n",
    "print(\"the Autual List : \",lst1)\n",
    "result=list(filter (lambda n:n%5==0 if 100<=n<=999 else 0,lst1))\n",
    "print(\"divisible by 5 in 3 digits numbers : \",result)"
   ]
  },
  {
   "cell_type": "code",
   "execution_count": 20,
   "id": "b02cca80",
   "metadata": {},
   "outputs": [
    {
     "name": "stdout",
     "output_type": "stream",
     "text": [
      "The Autual list :  [69, 55, 20, 78, 893, 10, 45, 82, 345, 10, 55, 100, 50, 20, 40]\n",
      "divisible by 5  in 2 digits Numbers :  {40, 10, 20, 50}\n"
     ]
    }
   ],
   "source": [
    "lst2=[69,55,20,78,893,10,45,82,345,10,55,100,50,20,40,200,500,1000,17000]\n",
    "print(\"The Autual list : \",lst2)\n",
    "res=set(filter (lambda n:n%10==0 if 10<=n<=99 else 0 ,lst2))\n",
    "print(\"divisible by 5  in 2 digits Numbers : \",res)"
   ]
  },
  {
   "cell_type": "code",
   "execution_count": 23,
   "id": "f5411c7d",
   "metadata": {},
   "outputs": [
    {
     "name": "stdout",
     "output_type": "stream",
     "text": [
      "The Autual list :  [69, 55, 20, 78, 893, 10, 45, 82, 345, 10, 55, 100, 50, 20, 40]\n",
      "divisible by 3 and 5 in 2 digits Numbers :  {45, 30, 15}\n"
     ]
    }
   ],
   "source": [
    "lst3=[69,55,20,78,893,10,45,82,345,10,55,100,35,50,20,15,40,200,500,1000,17000,70,35,30,105,]\n",
    "print(\"The Autual list : \",lst2)\n",
    "res=set(filter (lambda n:n%3==0 and n%5==0 if 10<=n<=99 else 0,lst3 ))\n",
    "print(\"divisible by 3 and 5 in 2 digits Numbers : \",res)"
   ]
  },
  {
   "cell_type": "code",
   "execution_count": 38,
   "id": "effdface",
   "metadata": {},
   "outputs": [
    {
     "name": "stdout",
     "output_type": "stream",
     "text": [
      "The Autual list :  [69, 55, 20, 78, 893, 10, 45, 82, 345, 10, 55, 100, 50, 20, 40, 200, 500, 1000, 17000]\n",
      "divisible by 3 and 5 in 3 digits Numbers :  (175, 105, 175)\n"
     ]
    }
   ],
   "source": [
    "lst3=[69,55,20,78,893,175,10,45,82,345,10,55,100,35,50,20,15,40,200,500,1000,17000,70,35,30,105,175]\n",
    "print(\"The Autual list : \",lst2)\n",
    "res=tuple(filter (lambda n:n%7==0 and n%5==0 if 100<=n<=999 else 0,lst3 ))\n",
    "print(\"divisible by 3 and 5 in 3 digits Numbers : \",res)"
   ]
  },
  {
   "cell_type": "code",
   "execution_count": 37,
   "id": "ecba2cf2",
   "metadata": {},
   "outputs": [
    {
     "name": "stdout",
     "output_type": "stream",
     "text": [
      "The Autual list :  [69, 55, 20, 78, 893, 10, 45, 82, 345, 10, 55, 100, 50, 20, 40, 200, 500, 1000, 17000]\n",
      "divisible by 7 :  {105, 70}\n"
     ]
    }
   ],
   "source": [
    "lst4=[69,55,20,78,893,10,45,82,345,10,70,55,100,50,20,40,200,500,1000,17000,70,105,45]\n",
    "print(\"The Autual list : \",lst2)\n",
    "res=set(filter (lambda n:n%7==0 ,lst4))\n",
    "print(\"divisible by 7 : \",res)"
   ]
  },
  {
   "cell_type": "code",
   "execution_count": 40,
   "id": "03bf7236",
   "metadata": {},
   "outputs": [
    {
     "name": "stdout",
     "output_type": "stream",
     "text": [
      "the autual set :  {34, 100, 199, 10, 45, 78, 20, 52, 56, 30}\n",
      "divisible by 5 :  [10, 45, 20, 30]\n"
     ]
    }
   ],
   "source": [
    "s1={30,20,56,10,45,10,199,100,78,34,52}\n",
    "print(\"the autual set : \",s1)\n",
    "res=list(filter (lambda n:n%5==0 if 10<=n<=99 else 0 ,s1))\n",
    "print(\"divisible by 5 : \",res)"
   ]
  },
  {
   "cell_type": "code",
   "execution_count": 41,
   "id": "16b5efe3",
   "metadata": {},
   "outputs": [
    {
     "name": "stdout",
     "output_type": "stream",
     "text": [
      "{56, 10, 30}\n"
     ]
    }
   ],
   "source": [
    "s1={10,30,56,10}\n",
    "print(s1)"
   ]
  },
  {
   "cell_type": "code",
   "execution_count": 56,
   "id": "98928984",
   "metadata": {},
   "outputs": [
    {
     "name": "stdout",
     "output_type": "stream",
     "text": [
      "enter the salary : 45000\n",
      "salary is :  45000.0\n",
      "tax amount :  2700.0\n",
      "total amount :  47700.0\n"
     ]
    }
   ],
   "source": [
    "#salary is 50000+ then tax is 8%\n",
    "#otherwise it is 5%\n",
    "\n",
    "#compute the income tax\n",
    "#lambda + regular FUNCTION\n",
    "\n",
    "def get_tax_percentage(s):\n",
    "    if s >=50000:\n",
    "        return 0.8\n",
    "    else:\n",
    "        return 0.5\n",
    "    \n",
    "compute_tax = lambda salary : get_tax_percentage(salary) *salary\n",
    "sal = float(input('enter the salary : '))\n",
    "print ('salary is : ',sal)\n",
    "tax_amount = compute_tax(sal)\n",
    "tot_amount = sal+tax_amount\n",
    "print ('tax amount : ',tax_amount)\n",
    "print(\"total amount : \",tot_amount)"
   ]
  },
  {
   "cell_type": "code",
   "execution_count": 58,
   "id": "327341e3",
   "metadata": {},
   "outputs": [
    {
     "name": "stdout",
     "output_type": "stream",
     "text": [
      "102 Arjun\n",
      "105 Arjun\n"
     ]
    }
   ],
   "source": [
    "dict1={101:\"prathyusha\",102:\"arjun\",103:\"damon\",104:\"klaus\",105:\"arjun\",106:\"rick\",107:\"matt\"}\n",
    "data={k:v.title() for k,v in dict1.items() if v==\"arjun\"}\n",
    "for i,j in data.items():\n",
    "    print(i,j)\n"
   ]
  },
  {
   "cell_type": "code",
   "execution_count": 62,
   "id": "4d9133ae",
   "metadata": {},
   "outputs": [
    {
     "name": "stdout",
     "output_type": "stream",
     "text": [
      "{69, 135, 201, 81, 57, 30}\n"
     ]
    }
   ],
   "source": [
    "lst1=[23,67,123,356,19,3,67,27,45,235,10,400,285,1000,1500,400,265,10]\n",
    "res={i*3 for i in lst1 if 9<i<99}\n",
    "print(res)"
   ]
  },
  {
   "cell_type": "code",
   "execution_count": 64,
   "id": "91f00ea1",
   "metadata": {},
   "outputs": [
    {
     "name": "stdout",
     "output_type": "stream",
     "text": [
      "[1, 4, 7, 10, 13, 16, 19, 22, 25, 28]\n",
      "[5, 20, 35, 50, 65, 80, 95, 110, 125, 140]\n"
     ]
    }
   ],
   "source": [
    "given_list=[x for x in range(1,31,3)]\n",
    "print(given_list)\n",
    "new_list=[y*5 for y in given_list]\n",
    "print(new_list)"
   ]
  },
  {
   "cell_type": "code",
   "execution_count": 81,
   "id": "7aef9931",
   "metadata": {},
   "outputs": [
    {
     "ename": "SyntaxError",
     "evalue": "cannot delete function call (<ipython-input-81-3a653aaaa150>, line 10)",
     "output_type": "error",
     "traceback": [
      "\u001b[1;36m  File \u001b[1;32m\"<ipython-input-81-3a653aaaa150>\"\u001b[1;36m, line \u001b[1;32m10\u001b[0m\n\u001b[1;33m    del print()\u001b[0m\n\u001b[1;37m        ^\u001b[0m\n\u001b[1;31mSyntaxError\u001b[0m\u001b[1;31m:\u001b[0m cannot delete function call\n"
     ]
    }
   ],
   "source": [
    "l1=[30,20,84,86,56,89,99]\n",
    "l2=[89,42,20,86,84,78,99]\n",
    "for i in l2:\n",
    "    if i in l1:\n",
    "        if not 80<i<99:\n",
    "            l1.remove(i)\n",
    "print(l1)\n",
    "tup1=(10,5,66,77,25,44,80,99,121,56)\n",
    "del tup1\n",
    "del print()\n",
    "#print (tup1[4:8])\n",
    "#l1=list(tup1)\n",
    "#c=l1.clear()\n",
    "#print(c)"
   ]
  },
  {
   "cell_type": "code",
   "execution_count": 69,
   "id": "92feea8e",
   "metadata": {},
   "outputs": [
    {
     "name": "stdout",
     "output_type": "stream",
     "text": [
      "[30, 20, 56, 89, 99]\n",
      "(30, 20, 56, 89, 99)\n"
     ]
    }
   ],
   "source": [
    "l1=[30,20,56,89,99]\n",
    "tuple1=tuple(l1)\n",
    "print(l1)\n",
    "print(tuple1)"
   ]
  },
  {
   "cell_type": "code",
   "execution_count": 74,
   "id": "3fc7e98f",
   "metadata": {},
   "outputs": [
    {
     "name": "stdout",
     "output_type": "stream",
     "text": [
      "15\n",
      "16\n",
      "17\n",
      "18\n",
      "19\n",
      "20\n"
     ]
    }
   ],
   "source": [
    "for i in range(15,21):\n",
    "    print(i)"
   ]
  },
  {
   "cell_type": "code",
   "execution_count": null,
   "id": "4bba6478",
   "metadata": {},
   "outputs": [],
   "source": []
  }
 ],
 "metadata": {
  "kernelspec": {
   "display_name": "Python 3",
   "language": "python",
   "name": "python3"
  },
  "language_info": {
   "codemirror_mode": {
    "name": "ipython",
    "version": 3
   },
   "file_extension": ".py",
   "mimetype": "text/x-python",
   "name": "python",
   "nbconvert_exporter": "python",
   "pygments_lexer": "ipython3",
   "version": "3.8.8"
  }
 },
 "nbformat": 4,
 "nbformat_minor": 5
}
