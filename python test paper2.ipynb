{
 "cells": [
  {
   "cell_type": "code",
   "execution_count": 1,
   "id": "081ea45e",
   "metadata": {},
   "outputs": [
    {
     "name": "stdout",
     "output_type": "stream",
     "text": [
      "Enter a Number : 19\n",
      "19*10=190\n",
      "19*9=171\n",
      "19*8=152\n",
      "19*7=133\n",
      "19*6=114\n",
      "19*5=95\n",
      "19*4=76\n",
      "19*3=57\n",
      "19*2=38\n",
      "19*1=19\n"
     ]
    }
   ],
   "source": [
    "#Print the Muliplication table \n",
    "n=int(input(\"Enter a Number : \"))\n",
    "for i in range(10,0,-1):\n",
    "    print(\"{}*{}={}\".format(n,i,n*i))"
   ]
  },
  {
   "cell_type": "code",
   "execution_count": 2,
   "id": "027013ad",
   "metadata": {},
   "outputs": [
    {
     "name": "stdout",
     "output_type": "stream",
     "text": [
      "Enter how many Numbers : 5\n",
      "Enter a number : 90\n",
      "Enter a number : 45\n",
      "Enter a number : 78\n",
      "Enter a number : 96\n",
      "Enter a number : 34\n",
      "96\n",
      "34\n",
      "[96, 90, 78, 45, 34]\n",
      "Student is Pass 96\n",
      "Student is Pass 90\n",
      "Student is Pass 78\n",
      "Student is Faill 45\n",
      "Student is Faill 34\n",
      "sum 266\n",
      "avg 88.66666666666667\n",
      "0\n"
     ]
    }
   ],
   "source": [
    "# input the students markes Assume the markes will be from 0 to 100\n",
    "#find out which Score is the highest and lowest\n",
    "#How many Falled (less the 50) and passed\n",
    "#if the input -1 should be consider is that student DID not take the test\n",
    "#that -1 should not be consider for total and class average\n",
    "#how many students did not take test\n",
    "\n",
    "\n",
    "marks=[]\n",
    "count=0\n",
    "h=0\n",
    "l=99999\n",
    "n=int(input(\"Enter how many Numbers : \"))\n",
    "for i in range(0,n):\n",
    "    if count<n:\n",
    "        a=int(input(\"Enter a number : \"))\n",
    "        marks.append(a)\n",
    "marks.sort(reverse=True)\n",
    "ln=len(marks)\n",
    "print(marks[0])\n",
    "print(marks[-1])\n",
    "print(marks)\n",
    "s1=s2=0\n",
    "c1=c2=c=0\n",
    "for i in marks:\n",
    "    if i<50 and i>0:\n",
    "        s1=s1+1\n",
    "        print(\"Student is Faill\",i)\n",
    "        c=c+1\n",
    "    elif i>50 and i<100:\n",
    "        print(\"Student is Pass\",i)\n",
    "        s2=s2+i\n",
    "        c1=c1+1\n",
    "    elif i==-1:\n",
    "        print(\"Student is Not Attended for test\",i)\n",
    "        c2=c2+1\n",
    "d=c1+c2+c\n",
    "if ln==d:\n",
    "    s=s1+s2\n",
    "d1=ln-c\n",
    "class_avg=s/d1\n",
    "print('sum',s)\n",
    "print(\"avg\",class_avg)\n",
    "print(c2)"
   ]
  },
  {
   "cell_type": "code",
   "execution_count": 4,
   "id": "f875bcdf",
   "metadata": {},
   "outputs": [
    {
     "name": "stdout",
     "output_type": "stream",
     "text": [
      "[210, 420, 630, 840, 1050, 1260, 1470, 1680, 1890]\n",
      "9\n"
     ]
    }
   ],
   "source": [
    "#Given range say 200 to 1947\n",
    "#find out only 10 numbers which are divisible by 5,6,7 and display them\n",
    "#find some of those numbers\n",
    "c=s=0\n",
    "lst=[]\n",
    "for i in range(200,1945):\n",
    "    if i%5==0 and i%6==0 and i%7==0:\n",
    "        lst.append(i)\n",
    "        s=s+1\n",
    "        c=c+1\n",
    "        if c==11:\n",
    "            break\n",
    "print(lst)\n",
    "print(s)"
   ]
  },
  {
   "cell_type": "code",
   "execution_count": 1,
   "id": "0a796328",
   "metadata": {},
   "outputs": [
    {
     "name": "stdout",
     "output_type": "stream",
     "text": [
      "Enter a How many Names : 3\n",
      "Enter a Name : karan\n",
      "k\n",
      "r\n",
      "n\n",
      "Enter a Name : arjun suryakumer\n",
      "r\n",
      "j\n",
      "n\n",
      "s\n",
      "r\n",
      "y\n",
      "k\n",
      "m\n",
      "r\n",
      "Enter a Name : jayvanth\n",
      "j\n",
      "y\n",
      "v\n",
      "n\n",
      "t\n",
      "h\n",
      "18\n"
     ]
    }
   ],
   "source": [
    "#input some names find out the total all the no_vowels\n",
    "n=int(input(\"Enter a How many Names : \"))\n",
    "c=0\n",
    "for i in range(0,n):\n",
    "    names=input(\"Enter a Name : \")\n",
    "    for j in names:\n",
    "        if not(j==\"a\" or j==\"e\" or j==\"i\" or j==\"o\" or j==\"u\"):\n",
    "            if j!=' ':\n",
    "                c=c+1\n",
    "                print(j)\n",
    "    \n",
    "print(c)        "
   ]
  },
  {
   "cell_type": "markdown",
   "id": "55940c99",
   "metadata": {},
   "source": [
    "### "
   ]
  },
  {
   "cell_type": "code",
   "execution_count": 2,
   "id": "1d53daf6",
   "metadata": {},
   "outputs": [
    {
     "name": "stdout",
     "output_type": "stream",
     "text": [
      "Enter a How Many Numbers : 5\n",
      "Enter a Markes78\n",
      "you may pass 78\n",
      "Enter a Markes90\n",
      "you may pass 90\n",
      "Enter a Markes34\n",
      "you may faill 34\n",
      "Enter a Markes-1\n",
      "you not attend test\n",
      "Enter a Markes-1\n",
      "you not attend test\n",
      "Total markes :  202\n",
      "Average :  50.5\n",
      "Higest Markes :  90\n",
      "Lowest Markes :  -1\n",
      "how many subjects  didnot take test :  2\n"
     ]
    }
   ],
   "source": [
    "# That Student With using List\n",
    "n=int(input(\"Enter a How Many Numbers : \"))\n",
    "h=0\n",
    "l=99999\n",
    "c=0\n",
    "c1=0\n",
    "c2=0\n",
    "s=0\n",
    "s1=0\n",
    "for j in range(0,n):\n",
    "    markes=int(input(\"Enter a Markes\"))\n",
    "    \n",
    "    if markes<50 and markes >0:\n",
    "        print(\"you may faill\",markes)\n",
    "        c=c+1\n",
    "        s=s+markes\n",
    "    elif markes>50:\n",
    "        print(\"you may pass\",markes)\n",
    "        c1=c1+1\n",
    "        s1=s1+markes\n",
    "    elif markes==-1:\n",
    "        print('you not attend test' )\n",
    "        c2=c2+1\n",
    "    if markes>h:\n",
    "        h=markes\n",
    "    if markes<l:\n",
    "        l=markes\n",
    "sum=s+s1\n",
    "count=c1+c2\n",
    "avg=sum/count\n",
    "print(\"Total markes : \",sum)\n",
    "print(\"Average : \",avg)\n",
    "print(\"Higest Markes : \",h)\n",
    "print('Lowest Markes : ',l)\n",
    "print(\"how many subjects  didnot take test : \",c2)\n",
    "            \n",
    "    \n",
    "            \n",
    "    \n",
    "        "
   ]
  },
  {
   "cell_type": "code",
   "execution_count": null,
   "id": "698bdf9c",
   "metadata": {},
   "outputs": [],
   "source": []
  }
 ],
 "metadata": {
  "kernelspec": {
   "display_name": "Python 3",
   "language": "python",
   "name": "python3"
  },
  "language_info": {
   "codemirror_mode": {
    "name": "ipython",
    "version": 3
   },
   "file_extension": ".py",
   "mimetype": "text/x-python",
   "name": "python",
   "nbconvert_exporter": "python",
   "pygments_lexer": "ipython3",
   "version": "3.8.8"
  }
 },
 "nbformat": 4,
 "nbformat_minor": 5
}
