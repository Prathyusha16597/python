{
 "cells": [
  {
   "cell_type": "code",
   "execution_count": 5,
   "id": "5542106e",
   "metadata": {},
   "outputs": [
    {
     "name": "stdout",
     "output_type": "stream",
     "text": [
      "Enter a number : 4\n",
      "1 \n",
      "2 3 \n",
      "4 5 6 \n",
      "7 8 9 10 \n"
     ]
    }
   ],
   "source": [
    "#5. print the following pattern \n",
    "#  1\n",
    "#  2 3 \n",
    "#  4 5 6 7\n",
    "#  8 9 10 11\n",
    "\n",
    "n=int(input(\"Enter a number : \"))\n",
    "num=1\n",
    "for i in range(1,n+1):\n",
    "    for j in range(1,i+1):\n",
    "        print(num,end=\" \")\n",
    "        num=num+1\n",
    "    print()\n",
    "        "
   ]
  },
  {
   "cell_type": "code",
   "execution_count": 6,
   "id": "6c46d17b",
   "metadata": {},
   "outputs": [
    {
     "name": "stdout",
     "output_type": "stream",
     "text": [
      "Enter a number : 4\n",
      "A \n",
      "B C \n",
      "D E F \n",
      "G H I J \n"
     ]
    }
   ],
   "source": [
    "#also\n",
    "#  A\n",
    "#  B C \n",
    "#  D E F\n",
    "#  G H I J\n",
    "\n",
    "n=int(input(\"Enter a number : \"))\n",
    "num=1\n",
    "for i in range(1,n+1):\n",
    "    for j in range(1,i+1):\n",
    "        print(chr(64+num),end=\" \")\n",
    "        num=num+1\n",
    "    print()"
   ]
  },
  {
   "cell_type": "code",
   "execution_count": 9,
   "id": "7bf27f36",
   "metadata": {},
   "outputs": [
    {
     "name": "stdout",
     "output_type": "stream",
     "text": [
      "Enter a First Number : 1\n",
      "Enter a Second Number : 4\n",
      "Enter a Thired Number : 3\n",
      "Enter a Fourth Number : 2\n",
      "1 2 3 4\n"
     ]
    }
   ],
   "source": [
    "#1. input 4 numbers\n",
    "#   arrange in ASC order\n",
    "#   input is 1 4 3 2 \n",
    "#   output  1 2 3 4 \n",
    "a=int(input(\"Enter a First Number : \"))\n",
    "b=int(input(\"Enter a Second Number : \"))\n",
    "c=int(input(\"Enter a Thired Number : \"))\n",
    "d=int(input(\"Enter a Fourth Number : \"))\n",
    "if a>b:\n",
    "    tem=a\n",
    "    a=b\n",
    "    b=tem\n",
    "if a>c:\n",
    "    tem=a\n",
    "    a=c\n",
    "    c=tem\n",
    "if a>d:\n",
    "    tem=a\n",
    "    a=d\n",
    "    d=tem\n",
    "if b>c:\n",
    "    tem=b\n",
    "    b=c\n",
    "    c=tem\n",
    "if b>d:\n",
    "    tem=b\n",
    "    b=d\n",
    "    d=tem\n",
    "if c>d:\n",
    "    tem=c\n",
    "    c=d\n",
    "    d=tem\n",
    "print(a,b,c,d)"
   ]
  },
  {
   "cell_type": "code",
   "execution_count": 3,
   "id": "9d7803ea",
   "metadata": {},
   "outputs": [
    {
     "name": "stdout",
     "output_type": "stream",
     "text": [
      "Enter a  Starting Number : 150\n",
      "Enter a Ending Number : 646\n",
      " 151   157   163   167   173   179   181   191   193   197   199   211   223   227   229   233   239   241   251   257   263   269   271   277   281   283   293   307   311   313   317   331   337   347   349   353   359   367   373   379   383   389   397   401   409   419   421   431   433   439   443   449   457   461   463   467   479   487   491   499   503   509   521   523   541   547   557   563   569   571   577   587   593   599   601   607   613   617   619   631   641   643  1\n"
     ]
    }
   ],
   "source": [
    "#4. use for loop , while loop if need be    \n",
    "#   generate all the PRIME numbers in the given range\n",
    "#  (say)  150 to 646\n",
    "a=int(input(\"Enter a  Starting Number : \"))\n",
    "b=int(input(\"Enter a Ending Number : \"))\n",
    "\n",
    "while(a<= b):\n",
    "    count = 0\n",
    "    i = 2\n",
    "    \n",
    "    while(i <= a//2):\n",
    "        if(a % i == 0):\n",
    "            count = count + 1\n",
    "            break\n",
    "        i = i + 1\n",
    "\n",
    "    if (count == 0 and a!= 1):\n",
    "        print(\" %d\" %a, end = '  ')\n",
    "    a = a  + 1\n",
    "print(count)"
   ]
  },
  {
   "cell_type": "code",
   "execution_count": 5,
   "id": "f5a31062",
   "metadata": {},
   "outputs": [
    {
     "name": "stdout",
     "output_type": "stream",
     "text": [
      "Enter a Number : 4\n",
      "100 \n",
      "98 96 \n",
      "94 92 90 \n",
      "88 86 84 82 \n",
      "80 \n",
      "78 76 \n",
      "74 72 70 \n",
      "68 66 64 62 \n"
     ]
    }
   ],
   "source": [
    "#   also\n",
    "#   100\n",
    "#   98 96\n",
    "#   94 92 90\n",
    "#   88 86 84 82\n",
    "#   80\n",
    "#   78 76\n",
    "#   74 72 70\n",
    "#   68 66 64 62\n",
    "n=int(input(\"Enter a Number : \"))\n",
    "num=100\n",
    "for i in range(1,n+1):\n",
    "    for j in range(1,i+1):\n",
    "        print(num,end=\" \")\n",
    "        num=num-2\n",
    "    print()\n",
    "num=80\n",
    "for i in range(1,n+1):\n",
    "    for j in range(1,i+1):\n",
    "        print(num,end=\" \")\n",
    "        num=num-2\n",
    "    print()"
   ]
  },
  {
   "cell_type": "code",
   "execution_count": 2,
   "id": "1a4f538b",
   "metadata": {},
   "outputs": [
    {
     "name": "stdout",
     "output_type": "stream",
     "text": [
      "Enter a Date : 3\n",
      "Enter a Month : 2\n",
      "Enter a Year : 1998\n",
      "Valied date\n",
      "Valid data Month\n",
      "Valid Year\n",
      "it's invalid date\n",
      "it's febuary month\n",
      "it's not a leap year\n"
     ]
    }
   ],
   "source": [
    "#2. no date utulity should be used for this.\n",
    "#   handle leap year\n",
    "#   input day , month and year\n",
    "#   display whether the date is VALID or not valid\n",
    "#                      Msg\n",
    "#   input 31 6 2022    invalid date\n",
    "#   input 32 3 2022    invalid date day should be less than 32\n",
    "#   input 29 2 2022    invalid 2022 is not leap year\n",
    "#  input 31 10 2020   VALID\n",
    "#  input 10 13 2022   invalid month must be less than 13\n",
    "#   and so on\n",
    "\n",
    "d=int(input(\"Enter a Date : \"))\n",
    "m=int(input(\"Enter a Month : \"))\n",
    "y=int(input(\"Enter a Year : \"))\n",
    "leap=0\n",
    "if(1<=d<=31):\n",
    "    print(\"Valied date\")\n",
    "else:\n",
    "    print(\"Not Valid data\")\n",
    "if(1<=m<=12):\n",
    "    print(\"Valid data Month\")\n",
    "else:\n",
    "    print(\"Not Valided Month\")\n",
    "if(1900<=y<2022):\n",
    "    print(\"Valid Year\")\n",
    "else:\n",
    "    print(\"Not Valid Year\")\n",
    "if(d==31 and (m==1 or m==3 or m==5 or m==7 or m==8 or m==10 or m==12)):\n",
    "    print(\"it valid 31 date\")      \n",
    "elif(d==30 and (m==4 or m==6 or m==9 or m==11)):\n",
    "    print(\"it's valid 30 date\")\n",
    "else:\n",
    "    print(\"it's invalid date\")\n",
    "if(m==2):\n",
    "    print(\"it's febuary month\")\n",
    "    if(y%100==0 and y%400==0):\n",
    "        leap=1\n",
    "        print(\"it's a leap year\")\n",
    "    elif(y%100!=0 and y%4==0):\n",
    "        leap=1\n",
    "        print(\"it's leap year\")\n",
    "    elif(1<=d<=28):\n",
    "        print(\"it's not a leap year\")\n",
    "    else:\n",
    "        print(\"it's invalid date because it's not a leap year\")\n",
    "    "
   ]
  },
  {
   "cell_type": "code",
   "execution_count": 1,
   "id": "6bb4d943",
   "metadata": {},
   "outputs": [
    {
     "name": "stdout",
     "output_type": "stream",
     "text": [
      "enter  the how many a numbers : 8\n",
      "Enter a number :89\n",
      "Enter a number :34\n",
      "Enter a number :67\n",
      "Enter a number :28\n",
      "Enter a number :90\n",
      "Enter a number :37\n",
      "Enter a number :84\n",
      "Enter a number :97\n",
      "Sum of the Numbers :  97\n",
      "Avg of the Numbers :   12.125\n",
      "Sum Of the First and Last Numbers :  186\n",
      "Middle Value :  28\n"
     ]
    }
   ],
   "source": [
    "t=0\n",
    "count=0\n",
    "m=0\n",
    "f=0\n",
    "l=0\n",
    "n=int(input(\"enter  the how many a numbers : \"))\n",
    "while count<n:\n",
    "    n1=int(input(\"Enter a number :\"))\n",
    "    if count==0:\n",
    "        f=n1\n",
    "    if count==n-1:\n",
    "        l=n1\n",
    "    count=count+1\n",
    "    if count==int(n/2):\n",
    "        m=n1\n",
    "t=t+n1\n",
    "avg=t/count\n",
    "fs=f+l\n",
    "print(\"Sum of the Numbers : \",t)\n",
    "print(\"Avg of the Numbers :  \",avg)\n",
    "print(\"Sum Of the First and Last Numbers : \",fs)\n",
    "print(\"Middle Value : \",m)\n",
    "   "
   ]
  },
  {
   "cell_type": "code",
   "execution_count": null,
   "id": "b5eb77b3",
   "metadata": {},
   "outputs": [],
   "source": []
  }
 ],
 "metadata": {
  "kernelspec": {
   "display_name": "Python 3",
   "language": "python",
   "name": "python3"
  },
  "language_info": {
   "codemirror_mode": {
    "name": "ipython",
    "version": 3
   },
   "file_extension": ".py",
   "mimetype": "text/x-python",
   "name": "python",
   "nbconvert_exporter": "python",
   "pygments_lexer": "ipython3",
   "version": "3.8.8"
  }
 },
 "nbformat": 4,
 "nbformat_minor": 5
}
