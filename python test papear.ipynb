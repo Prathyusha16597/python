{
 "cells": [
  {
   "cell_type": "code",
   "execution_count": 2,
   "id": "e0ad2517",
   "metadata": {},
   "outputs": [
    {
     "name": "stdout",
     "output_type": "stream",
     "text": [
      "['udhy', 'shnkar', 'hari', 'gopal', 'arjun', 'karan']\n",
      "['udhy', 'shnkar', 'hari', 'arjun', 'karan']\n"
     ]
    }
   ],
   "source": [
    "#names=('udhy','shnkar','hari','gopal','arjun','karan')\n",
    "#n='gopal'\n",
    "#Remove the contents matching in n in the names \n",
    "names=('udhy','shnkar','hari','gopal','arjun','karan')\n",
    "n='gopal'\n",
    "lst=list(names)\n",
    "print(lst)\n",
    "for i in lst:\n",
    "    if(i==n):\n",
    "        lst.remove(i)\n",
    "        print(lst)\n",
    "        \n"
   ]
  },
  {
   "cell_type": "code",
   "execution_count": 7,
   "id": "9dc727c5",
   "metadata": {
    "scrolled": true
   },
   "outputs": [
    {
     "name": "stdout",
     "output_type": "stream",
     "text": [
      "(12, 45, 67, 22, 44, 12, 12, 89, 100)\n",
      "Unique values is 7\n",
      "{67, 100, 12, 45, 44, 22, 89}\n"
     ]
    }
   ],
   "source": [
    "#data1=(12,45,67,22,44,12,12,89,100)\n",
    "# Few elements  Which are repeated how many uniqe values are their\n",
    "data1=(12,45,67,22,44,12,12,89,100)\n",
    "print(data1)\n",
    "set1=set(data1)\n",
    "print('Unique values is',len(set1))\n",
    "print(set1)"
   ]
  },
  {
   "cell_type": "code",
   "execution_count": 26,
   "id": "ec6eacab",
   "metadata": {},
   "outputs": [
    {
     "name": "stdout",
     "output_type": "stream",
     "text": [
      "{100: 'anand', 250: 'ganesh', 330: 'arjun', 19: 'karan', 671: 'shadik'}\n"
     ]
    }
   ],
   "source": [
    "#emp_id=(100,250,330,19,671)\n",
    "#emp_name=['anand','ganesh','arjun','karan','shadik']\n",
    "#Create a dict called employ where the keys is emp_id,values are emp_name of the employess\n",
    "employ={}\n",
    "emp_id=(100,250,330,19,671)\n",
    "emp_name=['anand','ganesh','arjun','karan','shadik']\n",
    "l1=len(emp_id)\n",
    "for i in range(0,l1):\n",
    "    employ.update({emp_id[i]:emp_name[i]})\n",
    "print(employ)\n"
   ]
  },
  {
   "cell_type": "code",
   "execution_count": 1,
   "id": "d9327464",
   "metadata": {},
   "outputs": [
    {
     "name": "stdout",
     "output_type": "stream",
     "text": [
      "enter a number : 50\n",
      "enter a number : 5678\n",
      "enter a number : 1234\n",
      "sum of two numbers :  6912\n"
     ]
    }
   ],
   "source": [
    "#Force the User to input 2 Numbers which must be 4digits and sum them\n",
    "def inpNum():\n",
    "    while True:\n",
    "        n=int(input(\"enter a number : \"))\n",
    "        if n>999 and n<10000:\n",
    "            break\n",
    "    return n\n",
    "n1=inpNum()\n",
    "n2=inpNum()\n",
    "print('sum of two numbers : ',n1+n2)"
   ]
  },
  {
   "cell_type": "code",
   "execution_count": 10,
   "id": "2f489f74",
   "metadata": {},
   "outputs": [
    {
     "name": "stdout",
     "output_type": "stream",
     "text": [
      "{'Even': {900, 100, 68, 12, 566}, 'Odd': {7809, 133, 55, 123, 667}, 'Negative': {-456, -118, -588}}\n"
     ]
    }
   ],
   "source": [
    "#data1=(100,133,-118,-456,667,900,12,55,68)\n",
    "#data2=['123','566','-118','-588','7809']\n",
    "#data1 and data2 cntents in away that you stroe them in dict called numb_dict\n",
    "#'Odd':(Should be set of all the +ve Odd Numbers)\n",
    "#'Even':(Should be set of all the +ve Even Numbers)\n",
    "#'Negative':(Should be set of all the -ve  Numbers)\n",
    "odd=set()\n",
    "evn=set()\n",
    "ng=set()\n",
    "data1=(100,133,-118,-456,667,900,12,55,68)\n",
    "data2=['123','566','-118','-588','7809']\n",
    "for i in data1:\n",
    "    if i>0:\n",
    "        if i%2==0:\n",
    "            evn.add(i)\n",
    "        else:\n",
    "            odd.add(i)\n",
    "    else:\n",
    "        ng.add(i)\n",
    "for j in data2:\n",
    "    i=int(j)\n",
    "    if i>0:\n",
    "        if i%2==0:\n",
    "            evn.add(i)\n",
    "        else:\n",
    "            odd.add(i)\n",
    "    else:\n",
    "        ng.add(i)\n",
    "num_dict={}\n",
    "num_dict.update({'Even':evn})\n",
    "num_dict.update({'Odd':odd})\n",
    "num_dict.update({'Negative':ng})\n",
    "print(num_dict)"
   ]
  },
  {
   "cell_type": "code",
   "execution_count": 5,
   "id": "18fef172",
   "metadata": {},
   "outputs": [
    {
     "name": "stdout",
     "output_type": "stream",
     "text": [
      "['karan', 'shankarrao', 'akash', 'kiran chopra', 'gopal kamath', 'arjun']\n",
      "arjun\n",
      "karan\n",
      "kiran chopra\n"
     ]
    }
   ],
   "source": [
    "#data2='karan,shankarrao,akash,kiran chopra,gopal kamath,arjun'\n",
    "#Put above data2 in list and sort it\n",
    "#find out how many people names are ending with a and n\n",
    "data2='karan,shankarrao,akash,kiran chopra,gopal kamath,arjun'\n",
    "lst=data2.split(',')\n",
    "print(lst)\n",
    "lst.sort()\n",
    "for i in lst:\n",
    "    if i.endswith('a') or i.endswith('n'):\n",
    "        print(i)"
   ]
  },
  {
   "cell_type": "code",
   "execution_count": 11,
   "id": "e0728042",
   "metadata": {},
   "outputs": [
    {
     "name": "stdout",
     "output_type": "stream",
     "text": [
      "enter a number : 3\n",
      "enter a number : 5\n",
      "enter a number : 7\n",
      "enter a number : 2\n",
      "enter a number : 9\n",
      "enter a number : 6\n",
      "enter a number : 8\n",
      "enter a number : 4\n",
      "enter a number : 5\n",
      "enter a number : 2\n",
      "enter a number : 4\n",
      "enter a number : 9\n",
      "enter a number : 1\n",
      "enter a number : 3\n",
      "enter a number : 4\n",
      "enter a number : 6\n",
      "enter a number : 8\n",
      "enter a number : -1\n",
      "stop the list\n",
      "[3, 5, 7, 2, 9, 6, 8, 4, 5, 2, 4, 9, 1, 3, 4, 6, 8]\n",
      "length of the values :  17\n",
      "half of the lenth :  8\n",
      "first half of the lenth :  [3, 5, 7, 2, 9, 6, 8, 4]\n",
      "second half of the length :  [9, 8, 6, 5, 4, 4, 3, 2, 1]\n",
      "second height value 8\n",
      "thired lowest value 3\n",
      "sum 42\n",
      "average 4.666666666666667\n"
     ]
    }
   ],
   "source": [
    "lst=[]\n",
    "while True:\n",
    "    n=int(input(\"enter a number : \"))\n",
    "    if n<=0:\n",
    "        print('stop the list')\n",
    "        break\n",
    "    else:\n",
    "        lst.append(n)\n",
    "print(lst) \n",
    "ln=len(lst)\n",
    "h=ln//2\n",
    "fh=lst[:h]\n",
    "sh=lst[h:]\n",
    "s=0\n",
    "c=0\n",
    "for i in sh:\n",
    "    s=s+i\n",
    "    c=c+1\n",
    "avg=s/c\n",
    "\n",
    "sh.sort(reverse=True)\n",
    "\n",
    "\n",
    "\n",
    "print('length of the values : ',ln)\n",
    "print('half of the lenth : ',h)\n",
    "print('first half of the lenth : ',fh)\n",
    "print('second half of the length : ',sh)\n",
    "\n",
    "print('second height value',sh[1])\n",
    "print('thired lowest value',sh[h-2])\n",
    "print('sum',s)\n",
    "print('average',avg)\n",
    "\n"
   ]
  },
  {
   "cell_type": "code",
   "execution_count": null,
   "id": "70448234",
   "metadata": {},
   "outputs": [],
   "source": []
  }
 ],
 "metadata": {
  "kernelspec": {
   "display_name": "Python 3",
   "language": "python",
   "name": "python3"
  },
  "language_info": {
   "codemirror_mode": {
    "name": "ipython",
    "version": 3
   },
   "file_extension": ".py",
   "mimetype": "text/x-python",
   "name": "python",
   "nbconvert_exporter": "python",
   "pygments_lexer": "ipython3",
   "version": "3.8.8"
  }
 },
 "nbformat": 4,
 "nbformat_minor": 5
}
