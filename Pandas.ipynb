{
 "cells": [
  {
   "cell_type": "code",
   "execution_count": 1,
   "id": "ff5b18d6",
   "metadata": {},
   "outputs": [
    {
     "name": "stdout",
     "output_type": "stream",
     "text": [
      "Requirement already satisfied: pandas in e:\\anaconda\\lib\\site-packages (1.2.4)\n",
      "Requirement already satisfied: pytz>=2017.3 in e:\\anaconda\\lib\\site-packages (from pandas) (2021.1)\n",
      "Requirement already satisfied: python-dateutil>=2.7.3 in e:\\anaconda\\lib\\site-packages (from pandas) (2.8.1)\n",
      "Requirement already satisfied: numpy>=1.16.5 in e:\\anaconda\\lib\\site-packages (from pandas) (1.20.1)\n",
      "Requirement already satisfied: six>=1.5 in e:\\anaconda\\lib\\site-packages (from python-dateutil>=2.7.3->pandas) (1.15.0)\n",
      "Note: you may need to restart the kernel to use updated packages.\n"
     ]
    }
   ],
   "source": [
    "pip install pandas\n"
   ]
  },
  {
   "cell_type": "code",
   "execution_count": 1,
   "id": "db589b3b",
   "metadata": {},
   "outputs": [],
   "source": [
    "import pandas as pd"
   ]
  },
  {
   "cell_type": "code",
   "execution_count": 4,
   "id": "f813d0fb",
   "metadata": {},
   "outputs": [
    {
     "name": "stdout",
     "output_type": "stream",
     "text": [
      "0           101\n",
      "1    Prathyusha\n",
      "2         77.43\n",
      "dtype: object\n"
     ]
    }
   ],
   "source": [
    "lst=[101,'Prathyusha',77.43]\n",
    "sc=pd.Series(lst)\n",
    "print(sc)"
   ]
  },
  {
   "cell_type": "code",
   "execution_count": 6,
   "id": "1b29561b",
   "metadata": {},
   "outputs": [
    {
     "name": "stdout",
     "output_type": "stream",
     "text": [
      "0      102\n",
      "1    Arjun\n",
      "2    88.45\n",
      "3     True\n",
      "dtype: object\n"
     ]
    }
   ],
   "source": [
    "lst1=[102,'Arjun',88.45,True]\n",
    "sc1=pd.Series(lst1)\n",
    "print(sc1)"
   ]
  },
  {
   "cell_type": "code",
   "execution_count": 7,
   "id": "352936ec",
   "metadata": {},
   "outputs": [
    {
     "name": "stdout",
     "output_type": "stream",
     "text": [
      "0      102\n",
      "1    Arjun\n",
      "2    88.45\n",
      "3     True\n",
      "dtype: object\n"
     ]
    }
   ],
   "source": [
    "lst1=(102,'Arjun',88.45,True)\n",
    "sc1=pd.Series(lst1)\n",
    "print(sc1)"
   ]
  },
  {
   "cell_type": "code",
   "execution_count": 8,
   "id": "385b6817",
   "metadata": {},
   "outputs": [
    {
     "name": "stdout",
     "output_type": "stream",
     "text": [
      "0         Arjun\n",
      "1    Suryakumer\n",
      "2         Karan\n",
      "3           100\n",
      "dtype: object\n"
     ]
    }
   ],
   "source": [
    "l=[\"Arjun\",\"Suryakumer\",\"Karan\",100]\n",
    "sa2=pd.Series(l)\n",
    "print(sa2)"
   ]
  },
  {
   "cell_type": "code",
   "execution_count": 11,
   "id": "8ee3d372",
   "metadata": {},
   "outputs": [
    {
     "name": "stdout",
     "output_type": "stream",
     "text": [
      "0    1.2\n",
      "1    3.4\n",
      "2    6.7\n",
      "3      d\n",
      "dtype: object\n"
     ]
    }
   ],
   "source": [
    "l1=[1.2,3.4,6.7,'d']\n",
    "sc3=pd.Series(l1)\n",
    "print(sc3)"
   ]
  },
  {
   "cell_type": "code",
   "execution_count": 14,
   "id": "a5ef03e4",
   "metadata": {},
   "outputs": [
    {
     "name": "stdout",
     "output_type": "stream",
     "text": [
      "101    Prathyusha\n",
      "102         Arjun\n",
      "103         Karan\n",
      "104       Shadick\n",
      "dtype: object\n"
     ]
    }
   ],
   "source": [
    "dic={101:\"Prathyusha\",102:\"Arjun\",103:\"Karan\",104:\"Shadick\"}\n",
    "scd=pd.Series(dic)\n",
    "print(scd)"
   ]
  },
  {
   "cell_type": "code",
   "execution_count": 20,
   "id": "e29494ea",
   "metadata": {},
   "outputs": [
    {
     "name": "stdout",
     "output_type": "stream",
     "text": [
      "p     10\n",
      "r     20\n",
      "a     30\n",
      "t     40\n",
      "h     50\n",
      "y     70\n",
      "u     80\n",
      "s     90\n",
      "h    100\n",
      "a    110\n",
      "dtype: int64\n"
     ]
    }
   ],
   "source": [
    "l2=[10,20,30,40,50,70,80,90,100,110]\n",
    "ind=['p','r','a','t','h','y','u','s','h','a']\n",
    "scind=pd.Series(l2,index=ind)\n",
    "print(scind)"
   ]
  },
  {
   "cell_type": "code",
   "execution_count": 2,
   "id": "1ea004f9",
   "metadata": {},
   "outputs": [
    {
     "data": {
      "text/plain": [
       "x    10\n",
       "y    20\n",
       "z    40\n",
       "a    40\n",
       "dtype: int64"
      ]
     },
     "execution_count": 2,
     "metadata": {},
     "output_type": "execute_result"
    }
   ],
   "source": [
    "l4=[10,20,40,40]\n",
    "se=pd.Series(l4,index=['x','y','z','a'])\n",
    "se"
   ]
  },
  {
   "cell_type": "code",
   "execution_count": 4,
   "id": "53bfe315",
   "metadata": {},
   "outputs": [
    {
     "data": {
      "text/plain": [
       "a        NaN\n",
       "s        NaN\n",
       "103    Karan\n",
       "dtype: object"
      ]
     },
     "execution_count": 4,
     "metadata": {},
     "output_type": "execute_result"
    }
   ],
   "source": [
    "dict={101:\"Prathyusha\",102:\"Arjun\",103:\"Karan\"}\n",
    "se=pd.Series(dict,index=[\"a\",\"s\",103])\n",
    "se"
   ]
  },
  {
   "cell_type": "code",
   "execution_count": 23,
   "id": "e124a7c8",
   "metadata": {},
   "outputs": [
    {
     "data": {
      "text/plain": [
       "101"
      ]
     },
     "execution_count": 23,
     "metadata": {},
     "output_type": "execute_result"
    }
   ],
   "source": [
    "l3[0]"
   ]
  },
  {
   "cell_type": "code",
   "execution_count": 24,
   "id": "57fa32d9",
   "metadata": {},
   "outputs": [
    {
     "data": {
      "text/plain": [
       "'Hindi'"
      ]
     },
     "execution_count": 24,
     "metadata": {},
     "output_type": "execute_result"
    }
   ],
   "source": [
    "l3[3][0]"
   ]
  },
  {
   "cell_type": "code",
   "execution_count": 32,
   "id": "6ccf7b7e",
   "metadata": {},
   "outputs": [
    {
     "name": "stdout",
     "output_type": "stream",
     "text": [
      "{101: 'Prathyusha', 102: 'Arjun', 103: 'Karan', 104: 'Suryakanth'}\n",
      "J    NaN\n",
      "R    NaN\n",
      "n    NaN\n",
      "A    NaN\n",
      "U    NaN\n",
      "dtype: object\n"
     ]
    }
   ],
   "source": [
    "dic1={101:\"Prathyusha\",102:\"Arjun\",103:\"Karan\",104:\"Shadick\",104:\"Suryakanth\"}\n",
    "print(dic1)\n",
    "dic_ind={\"A\",\"R\",\"J\",\"U\",\"n\"}\n",
    "sc_dic_ind=pd.Series(dic1,index=dic_ind)\n",
    "print(sc_dic_ind)"
   ]
  },
  {
   "cell_type": "code",
   "execution_count": 33,
   "id": "2a357991",
   "metadata": {},
   "outputs": [],
   "source": [
    "dic2={101:\"Prathyusha\",102:\"Arjun\",103:\"Karan\",104:\"Shadick\",104:\"Suryakanth\"}\n"
   ]
  },
  {
   "cell_type": "code",
   "execution_count": 34,
   "id": "208d2cf9",
   "metadata": {},
   "outputs": [
    {
     "data": {
      "text/plain": [
       "'YDDERIHTEK AHSUYHTARP'"
      ]
     },
     "execution_count": 34,
     "metadata": {},
     "output_type": "execute_result"
    }
   ],
   "source": [
    "a=\"PRATHYUSHA KETHIREDDY\"\n",
    "a[::-1]"
   ]
  },
  {
   "cell_type": "code",
   "execution_count": 37,
   "id": "d787baa8",
   "metadata": {},
   "outputs": [
    {
     "name": "stdout",
     "output_type": "stream",
     "text": [
      "12345\n"
     ]
    },
    {
     "data": {
      "text/plain": [
       "'54321'"
      ]
     },
     "execution_count": 37,
     "metadata": {},
     "output_type": "execute_result"
    }
   ],
   "source": [
    "b=12345\n",
    "c=str(b)\n",
    "print(c)\n",
    "c[::-1]"
   ]
  },
  {
   "cell_type": "code",
   "execution_count": 46,
   "id": "c7f957df",
   "metadata": {},
   "outputs": [
    {
     "name": "stdout",
     "output_type": "stream",
     "text": [
      "List of OOD Numbers :  [1, 3, 5, 7, 9]\n",
      "List Of EVEN Number :  [2, 4, 6, 8, 10]\n"
     ]
    }
   ],
   "source": [
    "li=[1,2,3,4,5,6,7,8,9,10]\n",
    "oi=[]\n",
    "ei=[]\n",
    "for i in li:\n",
    "    if i%2==0:\n",
    "        ei.append(i)\n",
    "    else:\n",
    "        oi.append(i)\n",
    "print(\"List of OOD Numbers : \",oi)\n",
    "print(\"List Of EVEN Number : \",ei)\n",
    "        "
   ]
  },
  {
   "cell_type": "code",
   "execution_count": 45,
   "id": "458356b1",
   "metadata": {},
   "outputs": [
    {
     "name": "stdout",
     "output_type": "stream",
     "text": [
      "[8]\n",
      "['a']\n",
      "[4.6]\n"
     ]
    }
   ],
   "source": [
    "b = [4.6,8,'a']\n",
    "bse = pd.Series(b)\n",
    "intli =[]\n",
    "strli = []\n",
    "floli = []\n",
    "for i in bse:\n",
    "    if type(i) == int:\n",
    "        intli.append(i)\n",
    "    elif type(i) == str:\n",
    "        strli.append(i)\n",
    "    elif type(i) == float:\n",
    "        floli.append(i)\n",
    "        \n",
    "print(intli)\n",
    "print(strli)\n",
    "print(floli)"
   ]
  },
  {
   "cell_type": "code",
   "execution_count": 3,
   "id": "6c24058f",
   "metadata": {},
   "outputs": [
    {
     "name": "stdout",
     "output_type": "stream",
     "text": [
      "1    Prathyusha\n",
      "2         Arjun\n",
      "3         Karan\n",
      "dtype: object\n"
     ]
    }
   ],
   "source": [
    "dict={1:\"Prathyusha\",2:\"Arjun\",3:\"Karan\"}\n",
    "sc_dict=pd.Series(dict)\n",
    "print(sc_dict)"
   ]
  },
  {
   "cell_type": "code",
   "execution_count": 10,
   "id": "405a4abc",
   "metadata": {},
   "outputs": [
    {
     "name": "stdout",
     "output_type": "stream",
     "text": [
      "            0\n",
      "1  Prathyusha\n",
      "2       Arjun\n",
      "3       Karan\n"
     ]
    }
   ],
   "source": [
    "dict={1:\"Prathyusha\",2:\"Arjun\",3:\"Karan\"}\n",
    "se_dict=pd.Series(dict)\n",
    "sedf=pd.DataFrame(se_dict)\n",
    "print(sedf)"
   ]
  },
  {
   "cell_type": "code",
   "execution_count": 8,
   "id": "3075a17a",
   "metadata": {},
   "outputs": [
    {
     "name": "stdout",
     "output_type": "stream",
     "text": [
      "         Name  Age\n",
      "0  Prathyusha   25\n",
      "1       Arjun   34\n",
      "2       Karan   36\n"
     ]
    }
   ],
   "source": [
    "dict1={\"Name\":[\"Prathyusha\",\"Arjun\",\"Karan\"],\"Age\":[25,34,36]}\n",
    "se_dict=pd.Series(dict1)\n",
    "sedf=pd.DataFrame(sedf)\n",
    "print(sedf)"
   ]
  },
  {
   "cell_type": "code",
   "execution_count": 13,
   "id": "d4d091c4",
   "metadata": {},
   "outputs": [
    {
     "name": "stdout",
     "output_type": "stream",
     "text": [
      "     Places States\n",
      "0  TajMahal  Delhi\n",
      "1    Beches    Goa\n"
     ]
    }
   ],
   "source": [
    "dict2={\"Places\":[\"TajMahal\",\"Beches\"],\"States\":(\"Delhi\",\"Goa\")}\n",
    "sedf=pd.DataFrame(dict2)\n",
    "print(sedf)\n"
   ]
  },
  {
   "cell_type": "code",
   "execution_count": 20,
   "id": "a6c2d6bd",
   "metadata": {},
   "outputs": [
    {
     "name": "stdout",
     "output_type": "stream",
     "text": [
      "Places    [TajMahal, Beches, Golconda]\n",
      "States                    [Delhi, Goa]\n",
      "dtype: object\n",
      "                                   0\n",
      "Places  [TajMahal, Beches, Golconda]\n",
      "States                  [Delhi, Goa]\n"
     ]
    }
   ],
   "source": [
    "dict2={\"Places\":[\"TajMahal\",\"Beches\",\"Golconda\"],\"States\":[\"Delhi\",\"Goa\"]}\n",
    "se=pd.Series(dict2)\n",
    "print(se)\n",
    "sedf=pd.DataFrame(se)\n",
    "print(sedf)"
   ]
  },
  {
   "cell_type": "code",
   "execution_count": 21,
   "id": "d1059ecf",
   "metadata": {},
   "outputs": [
    {
     "name": "stdout",
     "output_type": "stream",
     "text": [
      "  Countrys\n",
      "1    India\n",
      "2       US\n"
     ]
    }
   ],
   "source": [
    "dict3={\"Countrys\":{1:\"India\",2:\"US\"}}\n",
    "sedf=pd.DataFrame(dict3)\n",
    "print(sedf)"
   ]
  },
  {
   "cell_type": "code",
   "execution_count": 28,
   "id": "114f3721",
   "metadata": {},
   "outputs": [
    {
     "name": "stdout",
     "output_type": "stream",
     "text": [
      "{('Name', 'Age'): ('Arjun', 35)}\n",
      "    Name\n",
      "     Age\n",
      "0  Arjun\n",
      "1     35\n"
     ]
    }
   ],
   "source": [
    "dict4={(\"Name\",\"Age\"):(\"Arjun\",35)}\n",
    "print(dict4)\n",
    "sedf=pd.DataFrame(dict4)\n",
    "print(sedf)"
   ]
  },
  {
   "cell_type": "code",
   "execution_count": 34,
   "id": "63c03e54",
   "metadata": {},
   "outputs": [
    {
     "data": {
      "text/html": [
       "<div>\n",
       "<style scoped>\n",
       "    .dataframe tbody tr th:only-of-type {\n",
       "        vertical-align: middle;\n",
       "    }\n",
       "\n",
       "    .dataframe tbody tr th {\n",
       "        vertical-align: top;\n",
       "    }\n",
       "\n",
       "    .dataframe thead th {\n",
       "        text-align: right;\n",
       "    }\n",
       "</style>\n",
       "<table border=\"1\" class=\"dataframe\">\n",
       "  <thead>\n",
       "    <tr style=\"text-align: right;\">\n",
       "      <th></th>\n",
       "      <th>Name</th>\n",
       "      <th>Age</th>\n",
       "      <th>Markes</th>\n",
       "    </tr>\n",
       "  </thead>\n",
       "  <tbody>\n",
       "    <tr>\n",
       "      <th>0</th>\n",
       "      <td>Prathyusha</td>\n",
       "      <td>25</td>\n",
       "      <td>99</td>\n",
       "    </tr>\n",
       "    <tr>\n",
       "      <th>1</th>\n",
       "      <td>Arjun</td>\n",
       "      <td>34</td>\n",
       "      <td>98</td>\n",
       "    </tr>\n",
       "    <tr>\n",
       "      <th>2</th>\n",
       "      <td>Karan</td>\n",
       "      <td>36</td>\n",
       "      <td>56</td>\n",
       "    </tr>\n",
       "  </tbody>\n",
       "</table>\n",
       "</div>"
      ],
      "text/plain": [
       "         Name  Age  Markes\n",
       "0  Prathyusha   25      99\n",
       "1       Arjun   34      98\n",
       "2       Karan   36      56"
      ]
     },
     "execution_count": 34,
     "metadata": {},
     "output_type": "execute_result"
    }
   ],
   "source": [
    "a=pd.read_csv(\"markes.csv\")\n",
    "a"
   ]
  },
  {
   "cell_type": "code",
   "execution_count": 52,
   "id": "bc2d422a",
   "metadata": {},
   "outputs": [
    {
     "data": {
      "text/html": [
       "<div>\n",
       "<style scoped>\n",
       "    .dataframe tbody tr th:only-of-type {\n",
       "        vertical-align: middle;\n",
       "    }\n",
       "\n",
       "    .dataframe tbody tr th {\n",
       "        vertical-align: top;\n",
       "    }\n",
       "\n",
       "    .dataframe thead th {\n",
       "        text-align: right;\n",
       "    }\n",
       "</style>\n",
       "<table border=\"1\" class=\"dataframe\">\n",
       "  <thead>\n",
       "    <tr style=\"text-align: right;\">\n",
       "      <th></th>\n",
       "      <th>name</th>\n",
       "      <th>score</th>\n",
       "      <th>attempts</th>\n",
       "      <th>qualify</th>\n",
       "    </tr>\n",
       "  </thead>\n",
       "  <tbody>\n",
       "    <tr>\n",
       "      <th>a</th>\n",
       "      <td>Anastasia</td>\n",
       "      <td>12.5</td>\n",
       "      <td>1</td>\n",
       "      <td>yes</td>\n",
       "    </tr>\n",
       "    <tr>\n",
       "      <th>b</th>\n",
       "      <td>Dima</td>\n",
       "      <td>9.0</td>\n",
       "      <td>3</td>\n",
       "      <td>no</td>\n",
       "    </tr>\n",
       "    <tr>\n",
       "      <th>c</th>\n",
       "      <td>Katherine</td>\n",
       "      <td>16.5</td>\n",
       "      <td>2</td>\n",
       "      <td>yes</td>\n",
       "    </tr>\n",
       "    <tr>\n",
       "      <th>d</th>\n",
       "      <td>James</td>\n",
       "      <td>NaN</td>\n",
       "      <td>3</td>\n",
       "      <td>no</td>\n",
       "    </tr>\n",
       "    <tr>\n",
       "      <th>e</th>\n",
       "      <td>Emily</td>\n",
       "      <td>9.0</td>\n",
       "      <td>2</td>\n",
       "      <td>no</td>\n",
       "    </tr>\n",
       "    <tr>\n",
       "      <th>f</th>\n",
       "      <td>Michael</td>\n",
       "      <td>20.0</td>\n",
       "      <td>3</td>\n",
       "      <td>yes</td>\n",
       "    </tr>\n",
       "    <tr>\n",
       "      <th>g</th>\n",
       "      <td>Matthew</td>\n",
       "      <td>14.5</td>\n",
       "      <td>1</td>\n",
       "      <td>yes</td>\n",
       "    </tr>\n",
       "    <tr>\n",
       "      <th>h</th>\n",
       "      <td>Laura</td>\n",
       "      <td>NaN</td>\n",
       "      <td>1</td>\n",
       "      <td>no</td>\n",
       "    </tr>\n",
       "    <tr>\n",
       "      <th>i</th>\n",
       "      <td>Kevin</td>\n",
       "      <td>8.0</td>\n",
       "      <td>2</td>\n",
       "      <td>no</td>\n",
       "    </tr>\n",
       "    <tr>\n",
       "      <th>j</th>\n",
       "      <td>Jonas</td>\n",
       "      <td>19.0</td>\n",
       "      <td>1</td>\n",
       "      <td>yes</td>\n",
       "    </tr>\n",
       "  </tbody>\n",
       "</table>\n",
       "</div>"
      ],
      "text/plain": [
       "        name  score  attempts qualify\n",
       "a  Anastasia   12.5         1     yes\n",
       "b       Dima    9.0         3      no\n",
       "c  Katherine   16.5         2     yes\n",
       "d      James    NaN         3      no\n",
       "e      Emily    9.0         2      no\n",
       "f    Michael   20.0         3     yes\n",
       "g    Matthew   14.5         1     yes\n",
       "h      Laura    NaN         1      no\n",
       "i      Kevin    8.0         2      no\n",
       "j      Jonas   19.0         1     yes"
      ]
     },
     "execution_count": 52,
     "metadata": {},
     "output_type": "execute_result"
    }
   ],
   "source": [
    "import pandas as pd\n",
    "import numpy as np\n",
    "dict1={'name': ['Anastasia', 'Dima', 'Katherine', 'James', 'Emily', 'Michael', 'Matthew', 'Laura', 'Kevin', 'Jonas'],\n",
    "'score': [12.5, 9, 16.5, np.nan, 9, 20, 14.5, np.nan, 8, 19],\n",
    "'attempts': [1, 3, 2, 3, 2, 3, 1, 1, 2, 1],\n",
    "'qualify': ['yes', 'no', 'yes', 'no', 'no', 'yes', 'yes', 'no', 'no', 'yes']}\n",
    "labels = ['a', 'b', 'c', 'd', 'e', 'f', 'g', 'h', 'i', 'j']\n",
    "scdf=pd.DataFrame(dict1,index=labels)\n",
    "scdf\n",
    "\n",
    "\n",
    "\n"
   ]
  },
  {
   "cell_type": "code",
   "execution_count": 51,
   "id": "38e482fd",
   "metadata": {},
   "outputs": [
    {
     "data": {
      "text/html": [
       "<div>\n",
       "<style scoped>\n",
       "    .dataframe tbody tr th:only-of-type {\n",
       "        vertical-align: middle;\n",
       "    }\n",
       "\n",
       "    .dataframe tbody tr th {\n",
       "        vertical-align: top;\n",
       "    }\n",
       "\n",
       "    .dataframe thead th {\n",
       "        text-align: right;\n",
       "    }\n",
       "</style>\n",
       "<table border=\"1\" class=\"dataframe\">\n",
       "  <thead>\n",
       "    <tr style=\"text-align: right;\">\n",
       "      <th></th>\n",
       "      <th>name</th>\n",
       "      <th>score</th>\n",
       "      <th>attempts</th>\n",
       "      <th>qualify</th>\n",
       "    </tr>\n",
       "  </thead>\n",
       "  <tbody>\n",
       "    <tr>\n",
       "      <th>a</th>\n",
       "      <td>Anastasia</td>\n",
       "      <td>12.5</td>\n",
       "      <td>1</td>\n",
       "      <td>yes</td>\n",
       "    </tr>\n",
       "    <tr>\n",
       "      <th>b</th>\n",
       "      <td>Dima</td>\n",
       "      <td>9.0</td>\n",
       "      <td>3</td>\n",
       "      <td>no</td>\n",
       "    </tr>\n",
       "    <tr>\n",
       "      <th>c</th>\n",
       "      <td>Katherine</td>\n",
       "      <td>16.5</td>\n",
       "      <td>2</td>\n",
       "      <td>yes</td>\n",
       "    </tr>\n",
       "  </tbody>\n",
       "</table>\n",
       "</div>"
      ],
      "text/plain": [
       "        name  score  attempts qualify\n",
       "a  Anastasia   12.5         1     yes\n",
       "b       Dima    9.0         3      no\n",
       "c  Katherine   16.5         2     yes"
      ]
     },
     "execution_count": 51,
     "metadata": {},
     "output_type": "execute_result"
    }
   ],
   "source": [
    "## 3.Write a Pandas program to get the first 3 rows of a given DataFrame\n",
    "df1=scdf.head(3)\n",
    "df1"
   ]
  },
  {
   "cell_type": "code",
   "execution_count": 50,
   "id": "23437f7c",
   "metadata": {},
   "outputs": [
    {
     "data": {
      "text/html": [
       "<div>\n",
       "<style scoped>\n",
       "    .dataframe tbody tr th:only-of-type {\n",
       "        vertical-align: middle;\n",
       "    }\n",
       "\n",
       "    .dataframe tbody tr th {\n",
       "        vertical-align: top;\n",
       "    }\n",
       "\n",
       "    .dataframe thead th {\n",
       "        text-align: right;\n",
       "    }\n",
       "</style>\n",
       "<table border=\"1\" class=\"dataframe\">\n",
       "  <thead>\n",
       "    <tr style=\"text-align: right;\">\n",
       "      <th></th>\n",
       "      <th>name</th>\n",
       "      <th>score</th>\n",
       "      <th>attempts</th>\n",
       "      <th>qualify</th>\n",
       "    </tr>\n",
       "  </thead>\n",
       "  <tbody>\n",
       "    <tr>\n",
       "      <th>b</th>\n",
       "      <td>Dima</td>\n",
       "      <td>9.0</td>\n",
       "      <td>3</td>\n",
       "      <td>no</td>\n",
       "    </tr>\n",
       "    <tr>\n",
       "      <th>d</th>\n",
       "      <td>James</td>\n",
       "      <td>NaN</td>\n",
       "      <td>3</td>\n",
       "      <td>no</td>\n",
       "    </tr>\n",
       "    <tr>\n",
       "      <th>f</th>\n",
       "      <td>Michael</td>\n",
       "      <td>20.0</td>\n",
       "      <td>3</td>\n",
       "      <td>yes</td>\n",
       "    </tr>\n",
       "  </tbody>\n",
       "</table>\n",
       "</div>"
      ],
      "text/plain": [
       "      name  score  attempts qualify\n",
       "b     Dima    9.0         3      no\n",
       "d    James    NaN         3      no\n",
       "f  Michael   20.0         3     yes"
      ]
     },
     "execution_count": 50,
     "metadata": {},
     "output_type": "execute_result"
    }
   ],
   "source": [
    "## 4.Write a Pandas program to select the rows where the number of attempts in the examination is greater than 2\n",
    "row=(scdf[scdf['attempts']>2])\n",
    "row"
   ]
  },
  {
   "cell_type": "code",
   "execution_count": 41,
   "id": "1dc28507",
   "metadata": {},
   "outputs": [
    {
     "name": "stdout",
     "output_type": "stream",
     "text": [
      "Number of Rows:  10\n",
      "Number of Columns:  4\n"
     ]
    }
   ],
   "source": [
    "## Write a Pandas program to count the number of rows and columns of a DataFrame\n",
    "total_rows=len(scdf.axes[0])\n",
    "total_cols=len(scdf.axes[1])\n",
    "print(\"Number of Rows: \",(total_rows))\n",
    "print(\"Number of Columns: \",(total_cols))"
   ]
  },
  {
   "cell_type": "code",
   "execution_count": 49,
   "id": "6dc480a6",
   "metadata": {},
   "outputs": [
    {
     "data": {
      "text/html": [
       "<div>\n",
       "<style scoped>\n",
       "    .dataframe tbody tr th:only-of-type {\n",
       "        vertical-align: middle;\n",
       "    }\n",
       "\n",
       "    .dataframe tbody tr th {\n",
       "        vertical-align: top;\n",
       "    }\n",
       "\n",
       "    .dataframe thead th {\n",
       "        text-align: right;\n",
       "    }\n",
       "</style>\n",
       "<table border=\"1\" class=\"dataframe\">\n",
       "  <thead>\n",
       "    <tr style=\"text-align: right;\">\n",
       "      <th></th>\n",
       "      <th>name</th>\n",
       "      <th>score</th>\n",
       "      <th>attempts</th>\n",
       "      <th>qualify</th>\n",
       "    </tr>\n",
       "  </thead>\n",
       "  <tbody>\n",
       "    <tr>\n",
       "      <th>d</th>\n",
       "      <td>James</td>\n",
       "      <td>NaN</td>\n",
       "      <td>3</td>\n",
       "      <td>no</td>\n",
       "    </tr>\n",
       "    <tr>\n",
       "      <th>h</th>\n",
       "      <td>Laura</td>\n",
       "      <td>NaN</td>\n",
       "      <td>1</td>\n",
       "      <td>no</td>\n",
       "    </tr>\n",
       "  </tbody>\n",
       "</table>\n",
       "</div>"
      ],
      "text/plain": [
       "    name  score  attempts qualify\n",
       "d  James    NaN         3      no\n",
       "h  Laura    NaN         1      no"
      ]
     },
     "execution_count": 49,
     "metadata": {},
     "output_type": "execute_result"
    }
   ],
   "source": [
    "## Write a Pandas program to select the rows where the score is missing, i.e. is NaN.\n",
    "sc_miss=(scdf[scdf['score'].isnull()])\n",
    "sc_miss"
   ]
  },
  {
   "cell_type": "code",
   "execution_count": 48,
   "id": "49349d90",
   "metadata": {},
   "outputs": [
    {
     "data": {
      "text/html": [
       "<div>\n",
       "<style scoped>\n",
       "    .dataframe tbody tr th:only-of-type {\n",
       "        vertical-align: middle;\n",
       "    }\n",
       "\n",
       "    .dataframe tbody tr th {\n",
       "        vertical-align: top;\n",
       "    }\n",
       "\n",
       "    .dataframe thead th {\n",
       "        text-align: right;\n",
       "    }\n",
       "</style>\n",
       "<table border=\"1\" class=\"dataframe\">\n",
       "  <thead>\n",
       "    <tr style=\"text-align: right;\">\n",
       "      <th></th>\n",
       "      <th>name</th>\n",
       "      <th>score</th>\n",
       "      <th>attempts</th>\n",
       "      <th>qualify</th>\n",
       "    </tr>\n",
       "  </thead>\n",
       "  <tbody>\n",
       "    <tr>\n",
       "      <th>c</th>\n",
       "      <td>Katherine</td>\n",
       "      <td>16.5</td>\n",
       "      <td>2</td>\n",
       "      <td>yes</td>\n",
       "    </tr>\n",
       "    <tr>\n",
       "      <th>f</th>\n",
       "      <td>Michael</td>\n",
       "      <td>20.0</td>\n",
       "      <td>3</td>\n",
       "      <td>yes</td>\n",
       "    </tr>\n",
       "    <tr>\n",
       "      <th>j</th>\n",
       "      <td>Jonas</td>\n",
       "      <td>19.0</td>\n",
       "      <td>1</td>\n",
       "      <td>yes</td>\n",
       "    </tr>\n",
       "  </tbody>\n",
       "</table>\n",
       "</div>"
      ],
      "text/plain": [
       "        name  score  attempts qualify\n",
       "c  Katherine   16.5         2     yes\n",
       "f    Michael   20.0         3     yes\n",
       "j      Jonas   19.0         1     yes"
      ]
     },
     "execution_count": 48,
     "metadata": {},
     "output_type": "execute_result"
    }
   ],
   "source": [
    "\n"
   ]
  },
  {
   "cell_type": "code",
   "execution_count": 53,
   "id": "16a8c11c",
   "metadata": {},
   "outputs": [
    {
     "name": "stdout",
     "output_type": "stream",
     "text": [
      "<class 'pandas.core.frame.DataFrame'>\n",
      "Index: 10 entries, a to j\n",
      "Data columns (total 4 columns):\n",
      " #   Column    Non-Null Count  Dtype  \n",
      "---  ------    --------------  -----  \n",
      " 0   name      10 non-null     object \n",
      " 1   score     8 non-null      float64\n",
      " 2   attempts  10 non-null     int64  \n",
      " 3   qualify   10 non-null     object \n",
      "dtypes: float64(1), int64(1), object(2)\n",
      "memory usage: 400.0+ bytes\n"
     ]
    }
   ],
   "source": [
    "## Write a Pandas program to display a summary of the basic information about a specified DataFrame and its data.\n",
    "info=scdf.info()\n",
    "info"
   ]
  },
  {
   "cell_type": "code",
   "execution_count": 16,
   "id": "eec3997d",
   "metadata": {},
   "outputs": [
    {
     "name": "stdout",
     "output_type": "stream",
     "text": [
      "name        Matthew\n",
      "score          14.5\n",
      "attempts          1\n",
      "qualify         yes\n",
      "Name: g, dtype: object\n"
     ]
    }
   ],
   "source": [
    "import pandas as pd\n",
    "import numpy as np\n",
    "dict1={'name': ['Anastasia', 'Dima', 'Katherine', 'James', 'Emily', 'Michael', 'Matthew', 'Laura', 'Kevin', 'Jonas'],\n",
    "'score': [12.5, 9, 16.5, np.nan, 9, 20, 14.5, np.nan, 8, 19],\n",
    "'attempts': [1, 3, 2, 3, 2, 3, 1, 1, 2, 1],\n",
    "'qualify': ['yes', 'no', 'yes', 'no', 'no', 'yes', 'yes', 'no', 'no', 'yes']}\n",
    "labels = ['a', 'b', 'c', 'd', 'e', 'f', 'g', 'h', 'i', 'j']\n",
    "scdf=pd.DataFrame(dict1,index=labels)\n",
    "print(scdf.loc['g'])"
   ]
  },
  {
   "cell_type": "code",
   "execution_count": 32,
   "id": "4f116c41",
   "metadata": {},
   "outputs": [
    {
     "name": "stdout",
     "output_type": "stream",
     "text": [
      "name    a\n",
      "Age     4\n",
      "Name: 3, dtype: object\n",
      "name    z\n",
      "Age     3\n",
      "Name: 2, dtype: object\n",
      "  name  Age\n",
      "1    y    2\n",
      "4    b    5\n",
      "  emp_name  emp_Age\n",
      "0        X        1\n",
      "1        y        2\n",
      "2        z        3\n",
      "3        a        4\n",
      "4        b        5\n",
      "5        c        6\n",
      "6        d        7\n"
     ]
    }
   ],
   "source": [
    "d={\"name\":[\"X\",\"y\",\"z\",\"a\",\"b\",\"c\",\"d\"],\"Age\":[1,2,3,4,5,6,7]}\n",
    "scdf=pd.DataFrame(d)\n",
    "scdf\n",
    "print(scdf.loc[3])\n",
    "print(scdf.loc[2])\n",
    "print(scdf.loc[[1, 4]])\n",
    "print(scdf.add_prefix('emp_'))\n"
   ]
  },
  {
   "cell_type": "code",
   "execution_count": 43,
   "id": "f6f59725",
   "metadata": {},
   "outputs": [
    {
     "name": "stdout",
     "output_type": "stream",
     "text": [
      "    0   1   2   3\n",
      "0  12  10  20  30\n",
      "1  34   5  67  45\n",
      "    0   1   2   3\n",
      "0  32  30  40  50\n",
      "1  54  25  87  65\n",
      "      0   1   2   3\n",
      "sum  46  15  87  75\n"
     ]
    }
   ],
   "source": [
    "l1=[[12,10,20,30],[34,5,67,45]]\n",
    "scdf=pd.DataFrame(l1)\n",
    "print(scdf.abs())\n",
    "print(scdf.add(20))\n",
    "print(scdf.agg([\"sum\"]))"
   ]
  },
  {
   "cell_type": "code",
   "execution_count": null,
   "id": "c4bd313b",
   "metadata": {},
   "outputs": [],
   "source": []
  },
  {
   "cell_type": "code",
   "execution_count": null,
   "id": "d7e3ed7c",
   "metadata": {},
   "outputs": [],
   "source": []
  }
 ],
 "metadata": {
  "kernelspec": {
   "display_name": "Python 3",
   "language": "python",
   "name": "python3"
  },
  "language_info": {
   "codemirror_mode": {
    "name": "ipython",
    "version": 3
   },
   "file_extension": ".py",
   "mimetype": "text/x-python",
   "name": "python",
   "nbconvert_exporter": "python",
   "pygments_lexer": "ipython3",
   "version": "3.8.8"
  }
 },
 "nbformat": 4,
 "nbformat_minor": 5
}
