{
 "cells": [
  {
   "cell_type": "code",
   "execution_count": 17,
   "id": "30cff171",
   "metadata": {},
   "outputs": [
    {
     "name": "stdout",
     "output_type": "stream",
     "text": [
      "Enter a cost Price : 4500\n",
      "Entera category : C\n",
      "4747.5\n"
     ]
    }
   ],
   "source": [
    "#create user defined function to do the following:\n",
    "#   ask the user the cost price of the article\n",
    "#   ask the category of the article\n",
    "#   which could be :-\n",
    "#    A   then the profit percentage is 8%\n",
    "#   then the profit percentage is 6.5%\n",
    "#    C   then the profit percentage is 5.5%\n",
    "#   selling price = cost price + (cost price * profit percentage)\n",
    "def selling_price(cost_price,category):\n",
    "    if category=='A':\n",
    "        proft_percentage=8/100\n",
    "    elif category=='B':\n",
    "        proft_percentage=6.5/100\n",
    "    elif category=='C':\n",
    "        proft_percentage=5.5/100\n",
    "    selling_price=cost_price+(cost_price*proft_percentage)\n",
    "    return selling_price\n",
    "cost_price=int(input(\"Enter a cost Price : \"))\n",
    "category=input(\"Entera category : \")\n",
    "print(selling_price(cost_price,category))"
   ]
  },
  {
   "cell_type": "code",
   "execution_count": 7,
   "id": "cdf024ba",
   "metadata": {
    "scrolled": true
   },
   "outputs": [
    {
     "name": "stdout",
     "output_type": "stream",
     "text": [
      "Enter a Name : arjun kumar\n",
      "Enter a Name : anil rao\n",
      "Enter a Name : jaywanth\n",
      "Enter a Name : Asha\n",
      "Enter a Name : jaywanth\n",
      "The name is AlRADE EXIST\n",
      "Enter a Name : STOP\n",
      "{'jaywanth', 'arjun kumar', 'anil rao'}\n",
      "2\n"
     ]
    }
   ],
   "source": [
    "#input names till the user types STOP to EXIT\n",
    "#   add the names to the set\n",
    "#   if the name inputted already exist then display the \n",
    "#   message as the name is already there hence NOT added again\n",
    "#   process how many names have Kumar or Rao as surname\n",
    "#   remove the following people name lets say it is provided in a '\n",
    "#   another set rem_name={'Ashok','Lalit','Pankaj','Anand','Asha','Usha'}\n",
    "#   how many names were removed from the name set you created\n",
    "def name():\n",
    "    c=0\n",
    "    rem_name={'Ashok','Lalit','Pankaj','Anand','Asha','Usha'}\n",
    "    name=set()\n",
    "    while True:\n",
    "        names=input(\"Enter a Name : \")\n",
    "        if names==\"STOP\":\n",
    "            break\n",
    "        elif names in name:\n",
    "            print(\"The name is AlRADE EXIST\")\n",
    "        else:\n",
    "            name.add(names)\n",
    "            if names.endswith(\"kumar\") or names.endswith(\"rao\"):\n",
    "            c=c+1\n",
    "            if names in rem_name:\n",
    "                name.remove(names)\n",
    "    print(name)\n",
    "    print(c)\n",
    "name()   "
   ]
  },
  {
   "cell_type": "code",
   "execution_count": 28,
   "id": "a4933b7e",
   "metadata": {},
   "outputs": [
    {
     "name": "stdout",
     "output_type": "stream",
     "text": [
      "enter the prod_id : 101\n",
      "enter the prod_name : car\n",
      "enter the price : 430000\n",
      "enter the prod_id : 102\n",
      "enter the prod_name : mouse\n",
      "enter the price : 1500\n",
      "enter the prod_id : 103\n",
      "enter the prod_name : tv\n",
      "enter the price : 33450\n",
      "enter the prod_id : 102\n",
      "enter the invalid prod_id\n",
      "enter the prod_id : 104\n",
      "enter the prod_name : bick\n",
      "enter the price : 34302\n",
      "enter the prod_id : 105\n",
      "enter the prod_name : phone\n",
      "enter the price : 23000\n",
      "enter the prod_id : 0\n",
      "[430000, 1500, 33450, 34302, 23000]\n",
      "['car', 'mouse', 'tv', 'bick', 'phone']\n",
      "the costliest item is  430000\n",
      "the cheapest item is  1500\n",
      "how many products are above the rate of 12500 :   1\n",
      "{101: ['car', 430000], 102: ['mouse', 1500], 103: ['tv', 33450], 104: ['bick', 34302], 105: ['phone', 23000]}\n"
     ]
    }
   ],
   "source": [
    "\n",
    "#which has key prod_id and prod_name and price are the values\n",
    "#   as shown below\n",
    "#   prod = { 1000: ['Laptop',55000], 2000: ['Mouse',1500],....}\n",
    "#   add the prod id and the prod details in a list of prod info\n",
    "#   the flow should be like this\n",
    "#   enter the prod id?\n",
    "#   check if the prod id exists?\n",
    "#   NO not existing - then input the prod name and price and add them to \n",
    "#   a list\n",
    "#   that list is added as the value for the corresponding key in the dict\n",
    "#   YES - existing - then display the message that the prod id already exists\n",
    "#   finally when done with adding then find out\n",
    "#   the follwing details :-\n",
    "#   prod details - which is the costliest item\n",
    "#   prod details - which is the cheapest item\n",
    "#   how many products are above the rate of 12500?\n",
    "def prodKeyValue():\n",
    "    prod={}\n",
    "    \n",
    "    while True:\n",
    "        prod_id=int(input('enter the prod_id : '))\n",
    "        if prod_id==0:\n",
    "            break\n",
    "        elif prod_id in prod:\n",
    "            print(\"enter the invalid prod_id\")\n",
    "        elif prod_id  not in prod:\n",
    "            prod_name=input(\"enter the prod_name : \")\n",
    "            prod_price=int(input(\"enter the price : \"))\n",
    "            prod.update({prod_id:[prod_name,prod_price]})\n",
    "    price=[]\n",
    "    pname=[]\n",
    "    c=0\n",
    "    for k,v in prod.items():\n",
    "        price.append(v[1])\n",
    "        pname.append(v[0])\n",
    "    for i in price:\n",
    "        if i>=12500:\n",
    "            c=c+1\n",
    "        price_max=max(price)\n",
    "        price_min=min(price)\n",
    "       \n",
    "        print(price)\n",
    "        print(pname)\n",
    "        print(\"the costliest item is \",price_max)\n",
    "        print(\"the cheapest item is \",price_min)\n",
    "        print(\"how many products are above the rate of 12500 :  \",c)\n",
    "        return prod\n",
    "print(prodKeyValue())"
   ]
  },
  {
   "cell_type": "code",
   "execution_count": 3,
   "id": "3e0ff136",
   "metadata": {},
   "outputs": [
    {
     "name": "stdout",
     "output_type": "stream",
     "text": [
      "Enter a Principle : 56000\n",
      "Enter a Rate : 3\n",
      "Enter a Time : 2\n",
      "Simple Insterest :  3360.0\n",
      "Amount :  59360.0\n"
     ]
    }
   ],
   "source": [
    "#writite functions, call functions, make it return values)\n",
    "# input the principle, rate and time\n",
    "#   compute the simple interest and amount\n",
    "#   SI = ( P x T x R ) / 100\n",
    "#   Amount = SI + P\n",
    "#   .......\n",
    "#   should have (say) functions like this\n",
    "#   input_data()\n",
    "#   compute_interest()\n",
    "#   display_amount()\n",
    "#   display_simple_interest()\n",
    "def insterest():\n",
    "    p=int(input(\"Enter a Principle : \"))\n",
    "    r=float(input(\"Enter a Rate : \"))\n",
    "    t=float(input(\"Enter a Time : \"))\n",
    "    return p,r,t\n",
    "def simpleInsterest():\n",
    "    global SI\n",
    "    SI=(p * r * t)/100\n",
    "    return SI\n",
    "def amount():\n",
    "    global Amount\n",
    "    Amount=simpleInsterest()+p\n",
    "    return Amount\n",
    "p,r,t=insterest()\n",
    "simpleInsterest()\n",
    "amount()\n",
    "print('Simple Insterest : ',SI)\n",
    "print('Amount : ',Amount)\n"
   ]
  },
  {
   "cell_type": "code",
   "execution_count": 3,
   "id": "f05975d0",
   "metadata": {},
   "outputs": [
    {
     "name": "stdout",
     "output_type": "stream",
     "text": [
      "[890, -220, 12, 14, 22]\n",
      "4\n"
     ]
    }
   ],
   "source": [
    "#   set1 = { 100, 560,220, 565,121, 10, 15}\n",
    "#   list1 = [890,560,-220, -565, 12,-10 , 14,22,15]\n",
    "#   process the set1 , pick the element and search in the list1\n",
    "#   if the element exists in the list1 (either poistive or negative)\n",
    "#   example say  10 OR -10 then delete it from the list1\n",
    "#   count how many got deleted.\n",
    "#   Once the delete count exceeds 4 then STOP otherwise go ahead and process the set1\n",
    "def values():\n",
    "    set1 = { 100, 560,220, 565,121, 10, 15}\n",
    "    list1 = [890,560,-220, -565, 12,-10 , 14,22,15]\n",
    "    lst=list(set1)\n",
    "    c=0\n",
    "    for i in lst:\n",
    "        if i in list1:\n",
    "            list1.remove(i)\n",
    "            c=c+1\n",
    "        elif i-(i*2) in list1:\n",
    "            list1.remove(i-(i*2))\n",
    "            c=c+1\n",
    "        if c==4:\n",
    "            break\n",
    "    \n",
    "    print(list1)\n",
    "    print(c)\n",
    "values()"
   ]
  },
  {
   "cell_type": "code",
   "execution_count": null,
   "id": "6b53ef35",
   "metadata": {},
   "outputs": [],
   "source": []
  }
 ],
 "metadata": {
  "kernelspec": {
   "display_name": "Python 3",
   "language": "python",
   "name": "python3"
  },
  "language_info": {
   "codemirror_mode": {
    "name": "ipython",
    "version": 3
   },
   "file_extension": ".py",
   "mimetype": "text/x-python",
   "name": "python",
   "nbconvert_exporter": "python",
   "pygments_lexer": "ipython3",
   "version": "3.8.8"
  }
 },
 "nbformat": 4,
 "nbformat_minor": 5
}
