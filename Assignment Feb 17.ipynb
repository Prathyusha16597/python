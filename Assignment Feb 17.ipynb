{
 "cells": [
  {
   "cell_type": "code",
   "execution_count": 16,
   "id": "241b6c40",
   "metadata": {},
   "outputs": [
    {
     "name": "stdout",
     "output_type": "stream",
     "text": [
      "1234\n",
      "4567\n",
      "280.32\n",
      "5801\n"
     ]
    }
   ],
   "source": [
    "#3)  input two strings like this  '1234'  and '4567'\n",
    "#    convert them to int , add them\n",
    "#    apply the same using float   say if the input is '45.33' and '234.99'\n",
    "#    add them converting to float\n",
    "\n",
    "n1=\"1234\"\n",
    "n2=\"4567\"\n",
    "n3='45.33'\n",
    "n4=\"234.99\"\n",
    "a=int(n1)\n",
    "print(a)\n",
    "b=int(n2)\n",
    "print(b)\n",
    "c=float(n3)\n",
    "d=float(n4)\n",
    "x=c+d\n",
    "print(x)\n",
    "f=float(x)\n",
    "\n",
    "add=a+b\n",
    "print(add)"
   ]
  },
  {
   "cell_type": "code",
   "execution_count": 15,
   "id": "4888cc7d",
   "metadata": {},
   "outputs": [
    {
     "name": "stdout",
     "output_type": "stream",
     "text": [
      "Enter a Name : arjun\n",
      "Total Vowels :  1\n",
      "a = 1\n",
      "e = 0\n",
      "i = 0\n",
      "o = 0\n",
      "u = 1\n"
     ]
    }
   ],
   "source": [
    "#    input a string. Find out how many vowels are there\n",
    "#    Print out the frequency of the vowels for example\n",
    "#    a 10\n",
    "#    e  4\n",
    "#    i 12\n",
    "#    o  3\n",
    "#    u  1\n",
    "    consider the string as one case (say) lowercase\n",
    "str1=input(\"Enter a Name : \")\n",
    "vowels=\"aeiou\"\n",
    "d={}.fromkeys(vowels,0)\n",
    "count=0\n",
    "for i in str1:\n",
    "    if i in vowels:\n",
    "        d[i]+=1\n",
    "        count=1\n",
    "print(\"Total Vowels : \",count)\n",
    "for vowels in d:\n",
    "    print(vowels, \"=\", d[vowels])\n",
    "    \n",
    "        "
   ]
  },
  {
   "cell_type": "code",
   "execution_count": 5,
   "id": "8ba97768",
   "metadata": {},
   "outputs": [
    {
     "name": "stdout",
     "output_type": "stream",
     "text": [
      "enter  the how many a numbers : 8\n",
      "Enter a number :10\n",
      "Enter a number :20\n",
      "Enter a number :30\n",
      "Enter a number :40\n",
      "Enter a number :50\n",
      "Enter a number :60\n",
      "Enter a number :70\n",
      "Enter a number :80\n",
      "Sum of the Numbers :  80\n",
      "Avg of the Numbers :   10.0\n",
      "Sum Of the First and Last Numbers :  90\n",
      "Middle Value :  40\n"
     ]
    }
   ],
   "source": [
    "#1) Input 8 numbers. \n",
    "#   add all the numbers, display the total and avg.\n",
    "#   add the first number and the last number and display the sum\n",
    "#   display the middle number ie. in the eight it is fourth number which you input\n",
    "#   if the numbers to input was 11 then 11/2 5.5 rounded to 5 will be the middle\n",
    "t=0\n",
    "count=0\n",
    "m=0\n",
    "f=0\n",
    "l=0\n",
    "n=int(input(\"enter  the how many a numbers : \"))\n",
    "while count<n:\n",
    "    n1=int(input(\"Enter a number :\"))\n",
    "    if count==0:\n",
    "        f=n1\n",
    "    if count==n-1:\n",
    "        l=n1\n",
    "    count=count+1\n",
    "    if count==int(n/2):\n",
    "        m=n1\n",
    "t=t+n1\n",
    "avg=t/count\n",
    "fs=f+l\n",
    "print(\"Sum of the Numbers : \",t)\n",
    "print(\"Avg of the Numbers :  \",avg)\n",
    "print(\"Sum Of the First and Last Numbers : \",fs)\n",
    "print(\"Middle Value : \",m)\n",
    "            \n"
   ]
  },
  {
   "cell_type": "code",
   "execution_count": 1,
   "id": "75e22ed7",
   "metadata": {},
   "outputs": [
    {
     "name": "stdout",
     "output_type": "stream",
     "text": [
      "enter the name:Arjun\n",
      "entr the marks:95\n",
      "enter the name:Klaus\n",
      "entr the marks:78\n",
      "enter the name:Damon\n",
      "entr the marks:60\n",
      "enter the name:Karan\n",
      "entr the marks:45\n",
      "enter the name:Jaywanth\n",
      "entr the marks:89\n",
      "enter the name:Rick\n",
      "entr the marks:30\n",
      "Name of the Highest Marks person: Arjun\n",
      "Highest marks obtained is: 95\n",
      "Name of the lowest marks person: Rick\n",
      "Lowest Marks obtained is: 30\n"
     ]
    }
   ],
   "source": [
    "#   input 6 names and marks\n",
    "#    display the name whose marks is the highest and lowest\n",
    "\n",
    "h=0\n",
    "hn=\"\"\n",
    "low=9999999999\n",
    "sn=\"\"\n",
    "for i in range(0,6):\n",
    "    n=input(\"enter the name:\")\n",
    "    m=int(input(\"entr the marks:\"))\n",
    "    if(m>h):\n",
    "        h=m\n",
    "        hn=n             \n",
    "    if(m<low):\n",
    "        low=m\n",
    "        sn=n\n",
    "    i=i+1\n",
    "print(\"Name of the Highest Marks person:\",hn)\n",
    "print(\"Highest marks obtained is:\",h)\n",
    "print(\"Name of the lowest marks person:\",sn)\n",
    "print(\"Lowest Marks obtained is:\",low )"
   ]
  },
  {
   "cell_type": "code",
   "execution_count": null,
   "id": "4b70896e",
   "metadata": {},
   "outputs": [],
   "source": []
  }
 ],
 "metadata": {
  "kernelspec": {
   "display_name": "Python 3",
   "language": "python",
   "name": "python3"
  },
  "language_info": {
   "codemirror_mode": {
    "name": "ipython",
    "version": 3
   },
   "file_extension": ".py",
   "mimetype": "text/x-python",
   "name": "python",
   "nbconvert_exporter": "python",
   "pygments_lexer": "ipython3",
   "version": "3.8.8"
  }
 },
 "nbformat": 4,
 "nbformat_minor": 5
}
