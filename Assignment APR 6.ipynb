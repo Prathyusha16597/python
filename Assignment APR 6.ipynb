{
 "cells": [
  {
   "cell_type": "code",
   "execution_count": 2,
   "id": "70c66e70",
   "metadata": {},
   "outputs": [
    {
     "name": "stdout",
     "output_type": "stream",
     "text": [
      "Enter a NAME : kalus\n",
      "Enter the Another  Name\n"
     ]
    }
   ],
   "source": [
    " #Enter a name and check whether the 8th element is \n",
    " #  vowel or not vowel\n",
    " #  example:  i/p is sanjay kumar\n",
    " #  handle if the length of the string is small (say less than 8)\n",
    "name=input(\"Enter a NAME : \")\n",
    "vowels='a','e','i','o','u'\n",
    "\n",
    "if len(name)>=8:\n",
    "    if len(name)==vowels:\n",
    "        print(\"the Letter is Vowele\")\n",
    "    else:\n",
    "        print(\"the Letter is NOT Vowele\")\n",
    "else:\n",
    "    print(\"Enter the Another  Name\")\n",
    "    "
   ]
  },
  {
   "cell_type": "code",
   "execution_count": 17,
   "id": "e0d9db77",
   "metadata": {},
   "outputs": [
    {
     "name": "stdout",
     "output_type": "stream",
     "text": [
      "Enter a SENTENCE : hii arjun how are you arjun what are you doing arjun\n",
      "Enter a WORLD : arjun\n",
      "The World is EXIST\n",
      "How Many Times The World Is Repected :  3\n",
      "First Position of The of the World :  4\n"
     ]
    }
   ],
   "source": [
    "#enter a sentence\n",
    " #  enter a word to search in it\n",
    "  # does the word exists ?\n",
    "  # if it does how many words are there?\n",
    "  # which position is the first occurance of the word in the sentence?\n",
    "sentence=input(\"Enter a SENTENCE : \")\n",
    "world=input(\"Enter a WORLD : \")\n",
    "p=0\n",
    "if world in sentence:\n",
    "    print(\"The World is EXIST\")\n",
    "    c=sentence.count(world)\n",
    "    p=sentence.index(world)\n",
    "print(\"How Many Times The World Is Repected : \",c)\n",
    "print(\"First Position of The of the World : \",p)\n",
    "\n",
    "\n"
   ]
  },
  {
   "cell_type": "code",
   "execution_count": 19,
   "id": "cddd106c",
   "metadata": {},
   "outputs": [
    {
     "name": "stdout",
     "output_type": "stream",
     "text": [
      "Enter a NAME :ArjUn SuRyakUmeR\n",
      "Upper Case :  ARJUN SURYAKUMER\n",
      "Lower Case :  arjun suryakumer\n",
      "Little Case :  Arjun Suryakumer\n",
      "How Many Charactear are there :  16\n"
     ]
    }
   ],
   "source": [
    "#enter a name \n",
    "#   print the name in upper case, lower case  and title case\n",
    "#  find out how many char are there?\n",
    "name=input(\"Enter a NAME :\")\n",
    "c=0\n",
    "up=name.upper()\n",
    "lw=name.lower()\n",
    "li=name.title()\n",
    "\n",
    "print(\"Upper Case : \",up)\n",
    "print(\"Lower Case : \",lw)\n",
    "print(\"Little Case : \",li)\n",
    "for i in name:\n",
    "    c=c+1\n",
    "print(\"How Many Charactear are there : \",c)\n"
   ]
  },
  {
   "cell_type": "code",
   "execution_count": 4,
   "id": "1ca29872",
   "metadata": {},
   "outputs": [
    {
     "name": "stdout",
     "output_type": "stream",
     "text": [
      "Enter a Mobile NUMBER : 8934678978\n",
      "Display the Number :  8934678978\n",
      "VALLIED NUMBER\n"
     ]
    }
   ],
   "source": [
    "\n",
    "number=input(\"Enter a Mobile NUMBER : \")\n",
    "lst=number.split(',')\n",
    "for i in lst:\n",
    "    if i.endswith('5') or i.endswith('8'):\n",
    "        print(\"Display the Number : \",i)\n",
    "    else:\n",
    "        print(\"5,8 is not there in Mobial Number\")\n",
    "if len(number)!=10:\n",
    "    print(\"INVALIED MOBIAL Number\")\n",
    "else:\n",
    "    print(\"VALLIED NUMBER\")"
   ]
  },
  {
   "cell_type": "code",
   "execution_count": 3,
   "id": "2c096d7b",
   "metadata": {},
   "outputs": [
    {
     "name": "stdout",
     "output_type": "stream",
     "text": [
      "Enter a world : prathyusha\n",
      "The world is not Vailded\n"
     ]
    }
   ],
   "source": [
    "names='arjun,karan,kalus,damon,matt,rick,aiay,anand,rashmi,kiran'\n",
    "world=input(\"Enter a world : \")\n",
    "\n",
    "\n",
    "up_name=names.upper()\n",
    "lw_name=names.lower()\n",
    "if world in up_name:\n",
    "    print(\"UPPER CASE is Valied\")\n",
    "elif world in lw_name:\n",
    "    print(\"LOWER CASE is VALIED\")\n",
    "else:\n",
    "    print(\"The world is not Vailded\")\n",
    "    \n",
    "\n"
   ]
  },
  {
   "cell_type": "code",
   "execution_count": 6,
   "id": "eac911ac",
   "metadata": {},
   "outputs": [
    {
     "name": "stdout",
     "output_type": "stream",
     "text": [
      "enter the date: 21\n",
      "enter the month: 3\n",
      "enter the year: 2021\n",
      "date is valid\n"
     ]
    }
   ],
   "source": [
    "dd=int(input(\"enter the date: \"))\n",
    "mn=int(input(\"enter the month: \"))\n",
    "yr=int(input(\"enter the year: \"))\n",
    "if mn==1 or mn==3 or mn==5 or mn==7 or mn==8 or mn==10 or mn==12:\n",
    "    if dd>=1 and dd<=31:\n",
    "        print(\"date is valid\")\n",
    "    else:\n",
    "        print(\"date is invalid\")\n",
    "elif mn==4 or mn==6 or mn==9 or mn==11:\n",
    "    if dd>=1 and dd<=30:\n",
    "        print(\"date is valid\")\n",
    "    else:\n",
    "        print(\"date is invalid\")\n",
    "elif mn==2:\n",
    "    if dd>=1 and dd<=29:\n",
    "        if yr%4==0 and yr%100!=0:\n",
    "            print(dd,'-',mn,'-',yr,\"valid\")\n",
    "        elif yr%400==0 and yr%100==0:\n",
    "            print(dd,'-',mn,'-',yr,\"valid\")\n",
    "        else:\n",
    "            print(dd,'-',mn,'-',yr,\"invalid\")\n",
    "else:\n",
    "    print(\"date is invalid\")            \n",
    "\n",
    "   "
   ]
  },
  {
   "cell_type": "code",
   "execution_count": 15,
   "id": "35e824ec",
   "metadata": {},
   "outputs": [
    {
     "name": "stdout",
     "output_type": "stream",
     "text": [
      "enter the category: commercail\n",
      "enter the quantity: 2\n",
      "commercail LPG bill is:  2900\n"
     ]
    }
   ],
   "source": [
    "# 7. given\n",
    "#    price of LPG for domestic is 950 rs\n",
    "#    price of LPG for commercail is 1450 rs\n",
    "#    domestic LPG the user cannot take more than 2 qty\n",
    "#    commercial LPG the user cannot take more than 6 qty\n",
    "#    input the category (commercial OR domestic)\n",
    "#    input the qty (apply the rules) \n",
    "#    display the bill amount\n",
    "#    give discount of 5% is the LPG qty is more than 3 in case of commercial \n",
    "#    category\n",
    "\n",
    "category=input(\"enter the category: \")\n",
    "quantity=int(input(\"enter the quantity: \"))\n",
    "bill=bill1=0\n",
    "if category==\"commercail\":\n",
    "    if quantity<=6:\n",
    "        price=1450\n",
    "        bill=price*quantity\n",
    "        print(\"commercail LPG bill is: \",bill)  \n",
    "        if (quantity>=3):\n",
    "            price=1450\n",
    "            bill1=price*quantity\n",
    "            bill=bill1-(0.05*bill1)\n",
    "            print(\"discount commercail LPG bill is: \",bill) \n",
    "    else:\n",
    "        print(\"commercail LPG quantity is more than 6 so cannot supply\")\n",
    "elif category==\"domestic\":\n",
    "    if quantity<=2:\n",
    "        price=950\n",
    "        bill=price*quantity\n",
    "        print(\"domestic LPG bill is: \",bill)\n",
    "    else:\n",
    "        print(\"domestic LPG quantity is more than 2 so cannot supply\")\n"
   ]
  },
  {
   "cell_type": "code",
   "execution_count": 14,
   "id": "cdb6d4fa",
   "metadata": {},
   "outputs": [
    {
     "name": "stdout",
     "output_type": "stream",
     "text": [
      "enter the number: 345678\n",
      "six digit number\n"
     ]
    }
   ],
   "source": [
    "# 8. input a number and display one of the following\n",
    "#    it is a SINGLE digit number ::: if it is 1 to 9\n",
    "#    it is DOUBLE digit number ::: if it is 10 to 99\n",
    "#    and so on...\n",
    "#    do it till SIX digit number\n",
    "#    if number is above SIX digits then display this number is LARGE number\n",
    "#    Note\n",
    "#    if the user inputs a NEGATIVE number then - donot do the above processing\n",
    "#    instead display :: cannot process NEGATIVE numbers\n",
    "number=int(input(\"enter the number: \"))\n",
    "if number>=1 and number<=9:\n",
    "    print(\"single digit number\")\n",
    "elif number>=10 and number<=99:\n",
    "    print(\"two digit number\")\n",
    "elif number>=100 and number<=999:\n",
    "    print(\"three digit number\")\n",
    "elif number>=1000 and number<=9999:\n",
    "    print(\"four digit number\")\n",
    "elif number>=10000 and number<=99999:\n",
    "    print(\"five digit number\")\n",
    "elif number>=100000 and number<=999999:\n",
    "    print(\"six digit number\")\n",
    "else:\n",
    "    if number<0:\n",
    "        print(\"cannot process negative number\")\n",
    "    elif number>=1000000:\n",
    "        print(\"number is large\")"
   ]
  },
  {
   "cell_type": "code",
   "execution_count": null,
   "id": "96cf30a0",
   "metadata": {},
   "outputs": [],
   "source": []
  }
 ],
 "metadata": {
  "kernelspec": {
   "display_name": "Python 3",
   "language": "python",
   "name": "python3"
  },
  "language_info": {
   "codemirror_mode": {
    "name": "ipython",
    "version": 3
   },
   "file_extension": ".py",
   "mimetype": "text/x-python",
   "name": "python",
   "nbconvert_exporter": "python",
   "pygments_lexer": "ipython3",
   "version": "3.8.8"
  }
 },
 "nbformat": 4,
 "nbformat_minor": 5
}
