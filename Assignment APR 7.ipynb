{
 "cells": [
  {
   "cell_type": "code",
   "execution_count": 29,
   "id": "04385c5a",
   "metadata": {},
   "outputs": [
    {
     "name": "stdout",
     "output_type": "stream",
     "text": [
      "Enter a First Range : -15\n",
      "Enter a Ending Range : -9\n",
      "Enter a  Step Value : 1\n",
      "-15\n",
      "-14\n",
      "-13\n",
      "-12\n",
      "-11\n",
      "-10\n",
      "\n",
      "Sum of the Value :  -75\n"
     ]
    }
   ],
   "source": [
    "# display all the numbers as shown\n",
    "# -15 -14 -13 -12 -11 -10\n",
    "#  add all the numbers\n",
    "#  display the total also (outside the loop)\n",
    "n1=int(input(\"Enter a First Range : \"))\n",
    "n2=int(input(\"Enter a Ending Range : \"))\n",
    "s=int(input(\"Enter a  Step Value : \"))\n",
    "a=0\n",
    "for i in range(n1,n2,s):\n",
    "    print(i)\n",
    "    a=a+i\n",
    "print(\"Sum of the Value : \",a)\n"
   ]
  },
  {
   "cell_type": "code",
   "execution_count": 1,
   "id": "765db504",
   "metadata": {},
   "outputs": [
    {
     "name": "stdout",
     "output_type": "stream",
     "text": [
      "Enter a NAME :ArjUn SuRaYaKuMer\n",
      "Upper Case :  ARJUN SURAYAKUMER\n",
      "Lower Case :  arjun surayakumer\n",
      "Little Case :  Arjun Surayakumer\n",
      "Reverse :  reMuKaYaRuS nUjrA\n",
      "How Many Charactear are there :  17\n"
     ]
    }
   ],
   "source": [
    "# input a string and display the following\n",
    "#   in title case\n",
    "#   in upper case\n",
    "#   in lower case\n",
    "#   in reverse\n",
    "#   how many char are there in it.\n",
    "name=input(\"Enter a NAME :\")\n",
    "c=0\n",
    "\n",
    "up=name.upper()\n",
    "lw=name.lower()\n",
    "li=name.title()\n",
    "rev=name[::-1]\n",
    "\n",
    "print(\"Upper Case : \",up)\n",
    "print(\"Lower Case : \",lw)\n",
    "print(\"Little Case : \",li)\n",
    "print(\"Reverse : \",rev)\n",
    "for i in name:\n",
    "    c=c+1\n",
    "print(\"How Many Charactear are there : \",c)"
   ]
  },
  {
   "cell_type": "code",
   "execution_count": 28,
   "id": "c190aa8f",
   "metadata": {},
   "outputs": [
    {
     "name": "stdout",
     "output_type": "stream",
     "text": [
      "4\n",
      "7\n",
      "10\n",
      "13\n",
      "16\n",
      "19\n",
      "22\n",
      "**********\n",
      "22\n",
      "17\n",
      "12\n",
      "7\n",
      "2\n"
     ]
    }
   ],
   "source": [
    "# input a number and display the following way\n",
    "#   4 7 10 13 16 19 22\n",
    "#  after that use another for loop and display as below\n",
    "#  22 17 12 7 2\n",
    "for i in range(4,23,3):\n",
    "    print(i)\n",
    "print('*'*10)\n",
    "for j in range(22,0,-5):\n",
    "    print(j)\n"
   ]
  },
  {
   "cell_type": "code",
   "execution_count": 34,
   "id": "cd1e0fe7",
   "metadata": {},
   "outputs": [
    {
     "name": "stdout",
     "output_type": "stream",
     "text": [
      "Enter a STRING : hello bangalore wellocme all\n",
      "e wellocme all\n"
     ]
    }
   ],
   "source": [
    "#input a string and display all the char in the second half of the string\n",
    "#   if input is \n",
    "#                |----->display all from half----->\n",
    "#   hello bangalore welcome all\n",
    "s=input(\"Enter a STRING : \")\n",
    "ln=len(s)\n",
    "h=ln//2\n",
    "print(s[h:])\n"
   ]
  },
  {
   "cell_type": "code",
   "execution_count": null,
   "id": "8f1556b3",
   "metadata": {},
   "outputs": [],
   "source": []
  }
 ],
 "metadata": {
  "kernelspec": {
   "display_name": "Python 3",
   "language": "python",
   "name": "python3"
  },
  "language_info": {
   "codemirror_mode": {
    "name": "ipython",
    "version": 3
   },
   "file_extension": ".py",
   "mimetype": "text/x-python",
   "name": "python",
   "nbconvert_exporter": "python",
   "pygments_lexer": "ipython3",
   "version": "3.8.8"
  }
 },
 "nbformat": 4,
 "nbformat_minor": 5
}
