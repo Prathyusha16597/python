{
 "cells": [
  {
   "cell_type": "code",
   "execution_count": 9,
   "id": "6e5609ef",
   "metadata": {},
   "outputs": [
    {
     "name": "stdout",
     "output_type": "stream",
     "text": [
      "how many numbers enter : 5\n",
      "Enter a number : 700\n",
      "Enter a number : 105\n",
      "Enter a number : 678\n",
      "Enter a number : 9999\n",
      "Enter a number : 4637\n",
      "2\n",
      "805\n",
      "4637\n",
      "4637\n"
     ]
    }
   ],
   "source": [
    "#input some numbers find out the how many ThREE digit numbers are divisible by 5,7\n",
    "#sum All the numbers\n",
    "# only if it isFOUR digits Numbers then find highest and lowest\n",
    "n=int(input(\"how many numbers enter : \"))\n",
    "c=0\n",
    "s=0\n",
    "s1=0\n",
    "h=0\n",
    "l=999999\n",
    "for i in range(0,n):\n",
    "    n1=int(input(\"Enter a number : \"))\n",
    "    if n1>100 and n1<999:\n",
    "        if n1%5==0 and n1%7==0:\n",
    "            c=c+1\n",
    "            s=s+n1\n",
    "    if n1>1000 and n1<9999:\n",
    "    \n",
    "        if n1>h:\n",
    "            h=n1\n",
    "        if n1<l:\n",
    "            l=n1\n",
    "print(c)\n",
    "print(s)\n",
    "print(h)\n",
    "print(l)"
   ]
  },
  {
   "cell_type": "code",
   "execution_count": 8,
   "id": "d82a4ebc",
   "metadata": {},
   "outputs": [
    {
     "name": "stdout",
     "output_type": "stream",
     "text": [
      "10\n",
      "18\n",
      "26\n",
      "34\n",
      "42\n",
      "50\n",
      "********************\n",
      "50\n",
      "43\n",
      "36\n",
      "29\n",
      "22\n"
     ]
    }
   ],
   "source": [
    "#input stop and start and step valus and display the numbers\n",
    "#ofter loop has finished then display the same in the revers but one less \n",
    "# start  10\n",
    "#stop    55\n",
    "#step    8\n",
    "for i in range(10,55,8):\n",
    "    print(i)\n",
    "print(\"*\"*20)\n",
    "for j in range(50,10+7,-7):\n",
    "    print(j)\n",
    "    "
   ]
  },
  {
   "cell_type": "code",
   "execution_count": 3,
   "id": "cc0baee1",
   "metadata": {},
   "outputs": [
    {
     "name": "stdout",
     "output_type": "stream",
     "text": [
      "Enter how many NUMBERS :5\n",
      "Enter a numbers : 105\n",
      "Enter a numbers : 182\n",
      "Enter a numbers : 9999\n",
      "Enter a numbers : 3456\n",
      "Enter a numbers : 743\n",
      "1\n",
      "105\n",
      "3456\n",
      "3456\n"
     ]
    }
   ],
   "source": [
    "#Due the 1 Question number1 using while loop All the criteria remain same except that if the input number is one of the range \n",
    "#175 to 423 these such numbers DONOT consider them\n",
    "n=int(input(\"Enter how many NUMBERS :\"))\n",
    "c=0\n",
    "c1=0\n",
    "s=0\n",
    "s1=0\n",
    "h=0\n",
    "l=999999\n",
    "while c<n:\n",
    "    n1=int(input(\"Enter a numbers : \"))\n",
    "    c=c+1\n",
    "    \n",
    "    if n1>175 and n1<423:\n",
    "        pass\n",
    "    elif n1%5==0 and n1%7==0:\n",
    "        c1=c1+1\n",
    "        s=s+n1\n",
    "    if n1>1000 and n1<9999:\n",
    "    \n",
    "        if n1>h:\n",
    "            h=n1\n",
    "        if n1<l:\n",
    "            l=n1\n",
    "print(c1)\n",
    "print(s)\n",
    "print(h)\n",
    "print(l)\n",
    "            \n",
    "        \n",
    "    "
   ]
  },
  {
   "cell_type": "code",
   "execution_count": 10,
   "id": "6a81a95c",
   "metadata": {},
   "outputs": [
    {
     "name": "stdout",
     "output_type": "stream",
     "text": [
      "Enter a Sentaince success is joy vibrant success is reality\n",
      "success - 2\n",
      "joy 1\n",
      "vibrant 1\n",
      "reality 1\n"
     ]
    }
   ],
   "source": [
    "#input the sentence\n",
    "# given world\n",
    "#word1=\"success\"\n",
    "#word2=\"joy\"\n",
    "#word3=\"vibrant\"\n",
    "#word4=\"reality\"\n",
    "#how many of these words are there in the sentences\n",
    "n=input(\"Enter a Sentaince \")\n",
    "word1=\"success\"\n",
    "word2=\"joy\"\n",
    "word3=\"vibrant\"\n",
    "word4=\"reality\"\n",
    "c=n.count(word1)\n",
    "c1=n.count(word2)\n",
    "c2=n.count(word3)\n",
    "c3=n.count(word4)\n",
    "print(word1, \"-\", c)\n",
    "print(word2,c1)\n",
    "print(word3,c2)\n",
    "print(word4,c3)\n"
   ]
  },
  {
   "cell_type": "code",
   "execution_count": 12,
   "id": "ae32bdba",
   "metadata": {},
   "outputs": [
    {
     "name": "stdout",
     "output_type": "stream",
     "text": [
      "Enter a Sentaince success is joy vibrant success is reality.joy\n",
      "success - 1\n",
      "joy 1\n",
      "vibrant 1\n",
      "reality 1\n"
     ]
    }
   ],
   "source": [
    "n=input(\"Enter a Sentaince \")\n",
    "word1=\"success\"\n",
    "word2=\"joy\"\n",
    "word3=\"vibrant\"\n",
    "word4=\"reality\"\n",
    "c=c1=c2=c3=0\n",
    "if word1 in n:\n",
    "    c=c+1\n",
    "if word2 in n:\n",
    "    c1=c1+1\n",
    "if word3 in n:\n",
    "    c2=c2+1\n",
    "if word4 in n:\n",
    "    c3=c3+1\n",
    "print(word1, \"-\", c)\n",
    "print(word2,c1)\n",
    "print(word3,c2)\n",
    "print(word4,c3)\n"
   ]
  },
  {
   "cell_type": "code",
   "execution_count": 15,
   "id": "77ff9ae0",
   "metadata": {},
   "outputs": [
    {
     "ename": "ValueError",
     "evalue": "invalid literal for int() with base 10: 'arjun'",
     "output_type": "error",
     "traceback": [
      "\u001b[1;31m---------------------------------------------------------------------------\u001b[0m",
      "\u001b[1;31mValueError\u001b[0m                                Traceback (most recent call last)",
      "\u001b[1;32m<ipython-input-15-35e6fa7cb04c>\u001b[0m in \u001b[0;36m<module>\u001b[1;34m\u001b[0m\n\u001b[0;32m      2\u001b[0m \u001b[0mlst\u001b[0m\u001b[1;33m=\u001b[0m\u001b[0mlist\u001b[0m\u001b[1;33m(\u001b[0m\u001b[0mn\u001b[0m\u001b[1;33m)\u001b[0m\u001b[1;33m\u001b[0m\u001b[1;33m\u001b[0m\u001b[0m\n\u001b[0;32m      3\u001b[0m \u001b[1;32mfor\u001b[0m \u001b[0mi\u001b[0m \u001b[1;32min\u001b[0m \u001b[0mn\u001b[0m\u001b[1;33m:\u001b[0m\u001b[1;33m\u001b[0m\u001b[1;33m\u001b[0m\u001b[0m\n\u001b[1;32m----> 4\u001b[1;33m     \u001b[0mn1\u001b[0m\u001b[1;33m=\u001b[0m\u001b[0mint\u001b[0m\u001b[1;33m(\u001b[0m\u001b[0mi\u001b[0m\u001b[1;33m)\u001b[0m\u001b[1;33m\u001b[0m\u001b[1;33m\u001b[0m\u001b[0m\n\u001b[0m\u001b[0;32m      5\u001b[0m \u001b[1;33m\u001b[0m\u001b[0m\n\u001b[0;32m      6\u001b[0m \u001b[0mprint\u001b[0m\u001b[1;33m(\u001b[0m\u001b[0mn1\u001b[0m\u001b[1;33m)\u001b[0m\u001b[1;33m\u001b[0m\u001b[1;33m\u001b[0m\u001b[0m\n",
      "\u001b[1;31mValueError\u001b[0m: invalid literal for int() with base 10: 'arjun'"
     ]
    }
   ],
   "source": [
    "n={23,45,'58','arjun','karan','78','34'}\n",
    "lst=list(n)\n",
    "for i in n:\n",
    "    n1=int(i)\n",
    "    \n",
    "print(n1)\n"
   ]
  },
  {
   "cell_type": "code",
   "execution_count": 6,
   "id": "0fa06b2c",
   "metadata": {},
   "outputs": [
    {
     "name": "stdout",
     "output_type": "stream",
     "text": [
      "30\n",
      "4872\n"
     ]
    }
   ],
   "source": [
    "def sumop(a,b):\n",
    "    c=a+b\n",
    "    return c\n",
    "addop=lambda x,y:x+y\n",
    "subop=lambda a,b:a-b\n",
    "mulop=lambda k,v:k*v\n",
    "result1=sumop(10,20)\n",
    "print(result1)\n",
    "result2=mulop(56,87)\n",
    "print(result2)\n",
    "              \n",
    "    "
   ]
  },
  {
   "cell_type": "code",
   "execution_count": null,
   "id": "2c30a9fb",
   "metadata": {},
   "outputs": [],
   "source": []
  }
 ],
 "metadata": {
  "kernelspec": {
   "display_name": "Python 3",
   "language": "python",
   "name": "python3"
  },
  "language_info": {
   "codemirror_mode": {
    "name": "ipython",
    "version": 3
   },
   "file_extension": ".py",
   "mimetype": "text/x-python",
   "name": "python",
   "nbconvert_exporter": "python",
   "pygments_lexer": "ipython3",
   "version": "3.8.8"
  }
 },
 "nbformat": 4,
 "nbformat_minor": 5
}
