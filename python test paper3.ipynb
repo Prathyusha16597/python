{
 "cells": [
  {
   "cell_type": "code",
   "execution_count": 12,
   "id": "bbd38d0f",
   "metadata": {},
   "outputs": [
    {
     "name": "stdout",
     "output_type": "stream",
     "text": [
      "hights salary is :  4800 lowest salary is 2000\n"
     ]
    }
   ],
   "source": [
    "#salary=[('sunill',2500),('arjun',2000),('karan',3000),...]\n",
    "#Find the Person Who is Getting The Highest And Lowest Salary\n",
    "n=None\n",
    "salary=[('sunill',2500),('arjun',2000),('karan',3000),('suryakumer',4800),('ranjith',3290),('jayvanth',4429)]\n",
    "h=0\n",
    "l=999999\n",
    "for i in salary:\n",
    "    if i[1]>=h:\n",
    "        h=i[1]\n",
    "        n=i[0]\n",
    "    if i[1]<=l:\n",
    "        l=i[1]\n",
    "        n=i[0]\n",
    "    \n",
    "    \n",
    "print('hights salary is : ',h,'lowest salary is',l)"
   ]
  },
  {
   "cell_type": "code",
   "execution_count": 1,
   "id": "d7887980",
   "metadata": {},
   "outputs": [
    {
     "name": "stdout",
     "output_type": "stream",
     "text": [
      "[194, 355, 3, 37, 136, 137, 139, 120, 124, 145, 156, 150, 55, 600, 89, 90, 444, 125]\n",
      "194\n",
      "136\n",
      "137\n",
      "139\n",
      "120\n",
      "124\n",
      "145\n",
      "156\n",
      "150\n",
      "125\n",
      "total 1426\n",
      "average 1426\n",
      "highest value 194\n",
      "lowest value 120\n"
     ]
    }
   ],
   "source": [
    "#data1={125,600,355,444,90,89,120,37,3,90,150,124,55,145,156,194,137,136,139}\n",
    "#Find the total All of the Elements Bwtween 100 and 250 and Also find Average and highest Number \n",
    "t=c=h=0\n",
    "l=99999\n",
    "data1={125,600,355,444,90,89,120,37,3,90,150,124,55,145,156,194,137,136,139}\n",
    "lst=list(data1)\n",
    "print(lst)\n",
    "for i in lst:\n",
    "    if i>=100 and i<=250:\n",
    "        print(i)\n",
    "        t=t+i\n",
    "        c=c+1\n",
    "        if i>h:\n",
    "            h=i\n",
    "        if i<l:\n",
    "            l=i\n",
    "        \n",
    "avg=t/c\n",
    "            \n",
    "print('total',t)\n",
    "print('average',t)\n",
    "print('highest value',h)\n",
    "print('lowest value',l)\n"
   ]
  },
  {
   "cell_type": "code",
   "execution_count": 3,
   "id": "a8696c7c",
   "metadata": {},
   "outputs": [
    {
     "name": "stdout",
     "output_type": "stream",
     "text": [
      "thried lowest 45\n",
      "second highest 78\n",
      "total 335 avg 55.833333333333336\n"
     ]
    }
   ],
   "source": [
    "#data2={1000:(12,45,66),2500:(100,34,78)}\n",
    "#Add the all values Processing the data2\n",
    "#Find Averange\n",
    "#Find the Second highest and thired highest\n",
    "t=c=0\n",
    "data2={1000:(12,45,66),2500:(100,34,78)}\n",
    "lst=[]\n",
    "for k,v in data2.items():\n",
    "    t=t+sum(v)\n",
    "    c=c+len(v)\n",
    "    for j in v:\n",
    "        lst.append(j)\n",
    "slist=sorted(lst)\n",
    "print('thried lowest',slist[2])\n",
    "ln=len(slist)\n",
    "print('second highest',slist[ln-2])\n",
    "print('total',t,'avg',(t/c))"
   ]
  },
  {
   "cell_type": "code",
   "execution_count": 9,
   "id": "39985ba0",
   "metadata": {},
   "outputs": [
    {
     "name": "stdout",
     "output_type": "stream",
     "text": [
      "3\n",
      "hello arjun,may name is also arjun.how are you arjun\n"
     ]
    }
   ],
   "source": [
    "#main_str='hello sunil,may name is also sunil.how are you sunil'\n",
    "#find_str='sunil'\n",
    "# Process the String find out how many 'sunil' are there\n",
    "#Replace all the 'sunil' with 'arjun'\n",
    "main_str='hello sunil,may name is also sunil.how are you sunil'\n",
    "find_str='sunil'\n",
    "fs=main_str.count(find_str)\n",
    "print(fs)\n",
    "rs=main_str.replace('sunil','arjun')\n",
    "print(rs)\n",
    "\n"
   ]
  },
  {
   "cell_type": "code",
   "execution_count": 8,
   "id": "c0717f80",
   "metadata": {},
   "outputs": [
    {
     "name": "stdout",
     "output_type": "stream",
     "text": [
      "100   3\n",
      "250   2\n",
      "300   2\n",
      "450   1\n",
      "125   1\n",
      "400   1\n"
     ]
    }
   ],
   "source": [
    "#data1=[100,250,300,450,125,100,300,400,100,250]\n",
    "#Find the Frequency of the Number(meaning how many times ir repeate)\n",
    "data1=[100,250,300,450,125,100,300,400,100,250]\n",
    "freq={}\n",
    "\n",
    "for i in data1:\n",
    "    v=freq.get(i)\n",
    "    if v==None:\n",
    "        v=1\n",
    "        freq.update({i:v})\n",
    "    else:\n",
    "        v=v+1\n",
    "        freq.update({i:v})\n",
    "for k,v in freq.items():\n",
    "    print(k,' ',v)\n",
    "    "
   ]
  },
  {
   "cell_type": "code",
   "execution_count": null,
   "id": "f87b22da",
   "metadata": {},
   "outputs": [],
   "source": []
  }
 ],
 "metadata": {
  "kernelspec": {
   "display_name": "Python 3",
   "language": "python",
   "name": "python3"
  },
  "language_info": {
   "codemirror_mode": {
    "name": "ipython",
    "version": 3
   },
   "file_extension": ".py",
   "mimetype": "text/x-python",
   "name": "python",
   "nbconvert_exporter": "python",
   "pygments_lexer": "ipython3",
   "version": "3.8.8"
  }
 },
 "nbformat": 4,
 "nbformat_minor": 5
}
